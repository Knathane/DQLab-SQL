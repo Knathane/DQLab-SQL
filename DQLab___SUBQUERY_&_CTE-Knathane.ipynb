{
  "cells": [
    {
      "cell_type": "markdown",
      "metadata": {
        "id": "0m3ioioeWlxT"
      },
      "source": [
        "# <b>A. <span style='color:#0B2F9F'><code>SUB-QUERY</code></span></b>\n",
        "Subquery adalah sebuah query (pernyataan SQL) yang terletak di dalam query lain. Subquery dapat digunakan untuk mengambil data yang kemudian akan digunakan oleh query utama.<br><br>"
      ]
    },
    {
      "cell_type": "markdown",
      "metadata": {
        "id": "Jm2FSN4zWlxX"
      },
      "source": [
        "#### <i><b><span style='color:#55679C'>Quest</span> : Pada tabel customer_demography, hitung rata-rata umur customer dan bulatkan ke dua tempat desimal!</b></i>"
      ]
    },
    {
      "cell_type": "code",
      "execution_count": null,
      "metadata": {
        "id": "TE7xwNNHWlxY",
        "outputId": "044627c0-7a1a-4a2f-a674-0012da38b8cd"
      },
      "outputs": [
        {
          "data": {
            "text/html": [
              "<style type=\"text/css\">\n",
              "</style>\n",
              "<table id=\"T_0789f\">\n",
              "  <thead>\n",
              "    <tr>\n",
              "      <th id=\"T_0789f_level0_col0\" class=\"col_heading level0 col0\" >avg_age</th>\n",
              "    </tr>\n",
              "  </thead>\n",
              "  <tbody>\n",
              "    <tr>\n",
              "      <td id=\"T_0789f_row0_col0\" class=\"data row0 col0\" >46.51</td>\n",
              "    </tr>\n",
              "  </tbody>\n",
              "</table>\n"
            ],
            "text/plain": [
              "<pandas.io.formats.style.Styler at 0x13804a7d0>"
            ]
          },
          "metadata": {},
          "output_type": "display_data"
        }
      ],
      "source": [
        "SELECT\n",
        "ROUND(AVG(age),2) as avg_age,\n",
        "FROM`telco_churn.customer_demography`"
      ]
    },
    {
      "cell_type": "markdown",
      "source": [
        "Konteks **Sub-query** disini adalah penggunaan 2 Syntax dalam 1 baris/data, yang mana data rata-rata umur pelanggan dibulatkan sampai ke 2 tempat desimal \"ROUND(AVG(age),2) -> angka dibelakang menunjukkan berapa angka setelah koma yang akan ditunjukkan"
      ],
      "metadata": {
        "id": "lFZrnmC5GqG1"
      }
    },
    {
      "cell_type": "markdown",
      "metadata": {
        "id": "aFq2OElxWlxZ"
      },
      "source": [
        "#### <i><b><span style='color:#55679C'>Quest</span> : Pada tabel customer_demography, tampilkan customer_id, age dan gendernya dimana umur customer tersebut lebih dari rata-rata umur customer secara keseluruhan!</b></i>"
      ]
    },
    {
      "cell_type": "code",
      "execution_count": null,
      "metadata": {
        "id": "kU6sD7AcWlxZ",
        "outputId": "dc3b16b5-cc95-41db-a2b4-5fced74abf12"
      },
      "outputs": [
        {
          "data": {
            "text/html": [
              "<style type=\"text/css\">\n",
              "</style>\n",
              "<table id=\"T_82f5d\">\n",
              "  <thead>\n",
              "    <tr>\n",
              "      <th id=\"T_82f5d_level0_col0\" class=\"col_heading level0 col0\" >customer_id</th>\n",
              "      <th id=\"T_82f5d_level0_col1\" class=\"col_heading level0 col1\" >gender</th>\n",
              "      <th id=\"T_82f5d_level0_col2\" class=\"col_heading level0 col2\" >age</th>\n",
              "      <th id=\"T_82f5d_level0_col3\" class=\"col_heading level0 col3\" >senior_citizen</th>\n",
              "      <th id=\"T_82f5d_level0_col4\" class=\"col_heading level0 col4\" >married</th>\n",
              "      <th id=\"T_82f5d_level0_col5\" class=\"col_heading level0 col5\" >number_of_dependents</th>\n",
              "    </tr>\n",
              "  </thead>\n",
              "  <tbody>\n",
              "    <tr>\n",
              "      <td id=\"T_82f5d_row0_col0\" class=\"data row0 col0\" >4827-LTQRJ</td>\n",
              "      <td id=\"T_82f5d_row0_col1\" class=\"data row0 col1\" >Female</td>\n",
              "      <td id=\"T_82f5d_row0_col2\" class=\"data row0 col2\" >70</td>\n",
              "      <td id=\"T_82f5d_row0_col3\" class=\"data row0 col3\" >Yes</td>\n",
              "      <td id=\"T_82f5d_row0_col4\" class=\"data row0 col4\" >Yes</td>\n",
              "      <td id=\"T_82f5d_row0_col5\" class=\"data row0 col5\" >2</td>\n",
              "    </tr>\n",
              "    <tr>\n",
              "      <td id=\"T_82f5d_row1_col0\" class=\"data row1 col0\" >8809-XKHMD</td>\n",
              "      <td id=\"T_82f5d_row1_col1\" class=\"data row1 col1\" >Male</td>\n",
              "      <td id=\"T_82f5d_row1_col2\" class=\"data row1 col2\" >62</td>\n",
              "      <td id=\"T_82f5d_row1_col3\" class=\"data row1 col3\" >No</td>\n",
              "      <td id=\"T_82f5d_row1_col4\" class=\"data row1 col4\" >Yes</td>\n",
              "      <td id=\"T_82f5d_row1_col5\" class=\"data row1 col5\" >0</td>\n",
              "    </tr>\n",
              "    <tr>\n",
              "      <td id=\"T_82f5d_row2_col0\" class=\"data row2 col0\" >3768-NLUBH</td>\n",
              "      <td id=\"T_82f5d_row2_col1\" class=\"data row2 col1\" >Male</td>\n",
              "      <td id=\"T_82f5d_row2_col2\" class=\"data row2 col2\" >73</td>\n",
              "      <td id=\"T_82f5d_row2_col3\" class=\"data row2 col3\" >Yes</td>\n",
              "      <td id=\"T_82f5d_row2_col4\" class=\"data row2 col4\" >Yes</td>\n",
              "      <td id=\"T_82f5d_row2_col5\" class=\"data row2 col5\" >0</td>\n",
              "    </tr>\n",
              "    <tr>\n",
              "      <td id=\"T_82f5d_row3_col0\" class=\"data row3 col0\" >8807-ARQET</td>\n",
              "      <td id=\"T_82f5d_row3_col1\" class=\"data row3 col1\" >Female</td>\n",
              "      <td id=\"T_82f5d_row3_col2\" class=\"data row3 col2\" >59</td>\n",
              "      <td id=\"T_82f5d_row3_col3\" class=\"data row3 col3\" >No</td>\n",
              "      <td id=\"T_82f5d_row3_col4\" class=\"data row3 col4\" >No</td>\n",
              "      <td id=\"T_82f5d_row3_col5\" class=\"data row3 col5\" >0</td>\n",
              "    </tr>\n",
              "    <tr>\n",
              "      <td id=\"T_82f5d_row4_col0\" class=\"data row4 col0\" >5546-BYZSM</td>\n",
              "      <td id=\"T_82f5d_row4_col1\" class=\"data row4 col1\" >Female</td>\n",
              "      <td id=\"T_82f5d_row4_col2\" class=\"data row4 col2\" >52</td>\n",
              "      <td id=\"T_82f5d_row4_col3\" class=\"data row4 col3\" >No</td>\n",
              "      <td id=\"T_82f5d_row4_col4\" class=\"data row4 col4\" >No</td>\n",
              "      <td id=\"T_82f5d_row4_col5\" class=\"data row4 col5\" >0</td>\n",
              "    </tr>\n",
              "    <tr>\n",
              "      <td id=\"T_82f5d_row5_col0\" class=\"data row5 col0\" >...</td>\n",
              "      <td id=\"T_82f5d_row5_col1\" class=\"data row5 col1\" >...</td>\n",
              "      <td id=\"T_82f5d_row5_col2\" class=\"data row5 col2\" >...</td>\n",
              "      <td id=\"T_82f5d_row5_col3\" class=\"data row5 col3\" >...</td>\n",
              "      <td id=\"T_82f5d_row5_col4\" class=\"data row5 col4\" >...</td>\n",
              "      <td id=\"T_82f5d_row5_col5\" class=\"data row5 col5\" >...</td>\n",
              "    </tr>\n",
              "  </tbody>\n",
              "</table>\n"
            ],
            "text/plain": [
              "<pandas.io.formats.style.Styler at 0x1380b1950>"
            ]
          },
          "metadata": {},
          "output_type": "display_data"
        }
      ],
      "source": [
        "SELECT\n",
        "  customer_id,\n",
        "  gender,\n",
        "  age,\n",
        "  senior_citizen,\n",
        "  married,\n",
        "  number_of_dependents\n",
        "FROM`telco_churn.customer_demography`\n",
        "WHERE age > (SELECT ROUND(AVG(age),2) AS avg_customer_age FROM `telco_churn.customer_demography`)\n",
        "ORDER BY age DESC"
      ]
    },
    {
      "cell_type": "markdown",
      "source": [
        "Penulisan **SUBQUERY** biasanya seperti menulis Query baru, sehingga menggunakan *Syntax* **SELECT**. Penggunaan **SUBQUERY** sendiri bisa digunakan setelah *Syntax* **SELECT, WHERE, FROM**"
      ],
      "metadata": {
        "id": "04KFLgHeJgrY"
      }
    },
    {
      "cell_type": "markdown",
      "metadata": {
        "id": "1WyJDllYWlxZ"
      },
      "source": [
        "#### <i><b><span style='color:#55679C'>Quest</span> : Pada tabel customer_demography, ada berapa customer yang lebih dari rata-rata umur customer secara keseluruhan?</b></i>"
      ]
    },
    {
      "cell_type": "code",
      "execution_count": null,
      "metadata": {
        "id": "uzK5RPBfWlxa",
        "outputId": "31ac673d-8046-4117-d214-06376e210154"
      },
      "outputs": [
        {
          "data": {
            "text/html": [
              "<style type=\"text/css\">\n",
              "</style>\n",
              "<table id=\"T_20883\">\n",
              "  <thead>\n",
              "    <tr>\n",
              "      <th id=\"T_20883_level0_col0\" class=\"col_heading level0 col0\" >total_customer</th>\n",
              "    </tr>\n",
              "  </thead>\n",
              "  <tbody>\n",
              "    <tr>\n",
              "      <td id=\"T_20883_row0_col0\" class=\"data row0 col0\" >3452</td>\n",
              "    </tr>\n",
              "  </tbody>\n",
              "</table>\n"
            ],
            "text/plain": [
              "<pandas.io.formats.style.Styler at 0x13842c190>"
            ]
          },
          "metadata": {},
          "output_type": "display_data"
        }
      ],
      "source": [
        "SELECT\n",
        "  count(1) as total_customer\n",
        "FROM `telco_churn.customer_demography`\n",
        "WHERE age > (SELECT ROUND(AVG(age),2) FROM `telco_churn.customer_demography`)"
      ]
    },
    {
      "cell_type": "markdown",
      "source": [
        "Penggunaan *Syntax* : COUNT(1) digunakan untuk mengitung jumlah baris yang ada dalam hasil query, tanpa memperhatikan nilai kolom yang dihitung. Dengan kata lain, COUNT(1) akan menghitung setiap baris yang ditemukan dalam hasil query, terlepas dari kolom yang dipilih atau nilainya."
      ],
      "metadata": {
        "id": "G44F1YvpNXCI"
      }
    },
    {
      "cell_type": "markdown",
      "metadata": {
        "id": "g8iOjy1PWlxa"
      },
      "source": [
        "#### <i><b><span style='color:#55679C'>Quest</span> : Pada tabel customer_demography, berapa usia termuda dan tertua customer yang lebih dari rata-rata umur customer secara keseluruhan?</b></i>"
      ]
    },
    {
      "cell_type": "code",
      "execution_count": null,
      "metadata": {
        "id": "NgLITm_-Wlxa",
        "outputId": "1ea1421a-df36-4c1b-cf81-57d2dec580be"
      },
      "outputs": [
        {
          "data": {
            "text/html": [
              "<style type=\"text/css\">\n",
              "</style>\n",
              "<table id=\"T_7f189\">\n",
              "  <thead>\n",
              "    <tr>\n",
              "      <th id=\"T_7f189_level0_col0\" class=\"col_heading level0 col0\" >min_age</th>\n",
              "      <th id=\"T_7f189_level0_col1\" class=\"col_heading level0 col1\" >max_age</th>\n",
              "    </tr>\n",
              "  </thead>\n",
              "  <tbody>\n",
              "    <tr>\n",
              "      <td id=\"T_7f189_row0_col0\" class=\"data row0 col0\" >47</td>\n",
              "      <td id=\"T_7f189_row0_col1\" class=\"data row0 col1\" >80</td>\n",
              "    </tr>\n",
              "  </tbody>\n",
              "</table>\n"
            ],
            "text/plain": [
              "<pandas.io.formats.style.Styler at 0x12f8b3750>"
            ]
          },
          "metadata": {},
          "output_type": "display_data"
        }
      ],
      "source": [
        "SELECT\n",
        "  MIN(age) AS min_age,\n",
        "  MAX(age) AS max_age\n",
        "FROM `telco_churn.customer_demography`\n",
        "WHERE age > (SELECT ROUND(AVG(age),2) FROM telco_churn.customer_demography)"
      ]
    },
    {
      "cell_type": "markdown",
      "source": [
        "Secara struktur, penggunaan *Syntax* **WHERE** dilakukan untuk mengeliminasi data-data yang lebih besar daripada rata-rata umur customer, sebelum pada akhirnya ditarik nilai terendah (MIN) dan tertinggi (MAX)"
      ],
      "metadata": {
        "id": "P923U2IBbv2U"
      }
    },
    {
      "cell_type": "markdown",
      "metadata": {
        "id": "JlAutDKgWlxb"
      },
      "source": [
        "#### <i><b><span style='color:#55679C'>Quest</span> : Pada tabel customer_status, tampilkan semua data dengan cltv kurang dari atau sama dengan rata-rata cltv customer secara keseluruhan dan statusnya selain Churned?</b></i>"
      ]
    },
    {
      "cell_type": "code",
      "execution_count": null,
      "metadata": {
        "id": "en7em6ebWlxb",
        "outputId": "0e6dd9f0-6dde-4b05-ac13-202f4ccb6a95"
      },
      "outputs": [
        {
          "data": {
            "text/html": [
              "<style type=\"text/css\">\n",
              "</style>\n",
              "<table id=\"T_daf65\">\n",
              "  <thead>\n",
              "    <tr>\n",
              "      <th id=\"T_daf65_level0_col0\" class=\"col_heading level0 col0\" >customer_id</th>\n",
              "      <th id=\"T_daf65_level0_col1\" class=\"col_heading level0 col1\" >satisfaction_score</th>\n",
              "      <th id=\"T_daf65_level0_col2\" class=\"col_heading level0 col2\" >status</th>\n",
              "      <th id=\"T_daf65_level0_col3\" class=\"col_heading level0 col3\" >churn_label</th>\n",
              "      <th id=\"T_daf65_level0_col4\" class=\"col_heading level0 col4\" >churn_score</th>\n",
              "      <th id=\"T_daf65_level0_col5\" class=\"col_heading level0 col5\" >cltv</th>\n",
              "      <th id=\"T_daf65_level0_col6\" class=\"col_heading level0 col6\" >churn_category</th>\n",
              "      <th id=\"T_daf65_level0_col7\" class=\"col_heading level0 col7\" >churn_reason</th>\n",
              "    </tr>\n",
              "  </thead>\n",
              "  <tbody>\n",
              "    <tr>\n",
              "      <td id=\"T_daf65_row0_col0\" class=\"data row0 col0\" >6867-ACCZI</td>\n",
              "      <td id=\"T_daf65_row0_col1\" class=\"data row0 col1\" >3</td>\n",
              "      <td id=\"T_daf65_row0_col2\" class=\"data row0 col2\" >Stayed</td>\n",
              "      <td id=\"T_daf65_row0_col3\" class=\"data row0 col3\" >No</td>\n",
              "      <td id=\"T_daf65_row0_col4\" class=\"data row0 col4\" >47</td>\n",
              "      <td id=\"T_daf65_row0_col5\" class=\"data row0 col5\" >3303</td>\n",
              "      <td id=\"T_daf65_row0_col6\" class=\"data row0 col6\" >nan</td>\n",
              "      <td id=\"T_daf65_row0_col7\" class=\"data row0 col7\" >nan</td>\n",
              "    </tr>\n",
              "    <tr>\n",
              "      <td id=\"T_daf65_row1_col0\" class=\"data row1 col0\" >3016-KSVCP</td>\n",
              "      <td id=\"T_daf65_row1_col1\" class=\"data row1 col1\" >3</td>\n",
              "      <td id=\"T_daf65_row1_col2\" class=\"data row1 col2\" >Stayed</td>\n",
              "      <td id=\"T_daf65_row1_col3\" class=\"data row1 col3\" >No</td>\n",
              "      <td id=\"T_daf65_row1_col4\" class=\"data row1 col4\" >62</td>\n",
              "      <td id=\"T_daf65_row1_col5\" class=\"data row1 col5\" >3664</td>\n",
              "      <td id=\"T_daf65_row1_col6\" class=\"data row1 col6\" >nan</td>\n",
              "      <td id=\"T_daf65_row1_col7\" class=\"data row1 col7\" >nan</td>\n",
              "    </tr>\n",
              "    <tr>\n",
              "      <td id=\"T_daf65_row2_col0\" class=\"data row2 col0\" >3948-FVVRP</td>\n",
              "      <td id=\"T_daf65_row2_col1\" class=\"data row2 col1\" >4</td>\n",
              "      <td id=\"T_daf65_row2_col2\" class=\"data row2 col2\" >Stayed</td>\n",
              "      <td id=\"T_daf65_row2_col3\" class=\"data row2 col3\" >No</td>\n",
              "      <td id=\"T_daf65_row2_col4\" class=\"data row2 col4\" >73</td>\n",
              "      <td id=\"T_daf65_row2_col5\" class=\"data row2 col5\" >2848</td>\n",
              "      <td id=\"T_daf65_row2_col6\" class=\"data row2 col6\" >nan</td>\n",
              "      <td id=\"T_daf65_row2_col7\" class=\"data row2 col7\" >nan</td>\n",
              "    </tr>\n",
              "    <tr>\n",
              "      <td id=\"T_daf65_row3_col0\" class=\"data row3 col0\" >6047-SUHPR</td>\n",
              "      <td id=\"T_daf65_row3_col1\" class=\"data row3 col1\" >3</td>\n",
              "      <td id=\"T_daf65_row3_col2\" class=\"data row3 col2\" >Stayed</td>\n",
              "      <td id=\"T_daf65_row3_col3\" class=\"data row3 col3\" >No</td>\n",
              "      <td id=\"T_daf65_row3_col4\" class=\"data row3 col4\" >58</td>\n",
              "      <td id=\"T_daf65_row3_col5\" class=\"data row3 col5\" >3093</td>\n",
              "      <td id=\"T_daf65_row3_col6\" class=\"data row3 col6\" >nan</td>\n",
              "      <td id=\"T_daf65_row3_col7\" class=\"data row3 col7\" >nan</td>\n",
              "    </tr>\n",
              "    <tr>\n",
              "      <td id=\"T_daf65_row4_col0\" class=\"data row4 col0\" >6522-OIQSX</td>\n",
              "      <td id=\"T_daf65_row4_col1\" class=\"data row4 col1\" >4</td>\n",
              "      <td id=\"T_daf65_row4_col2\" class=\"data row4 col2\" >Stayed</td>\n",
              "      <td id=\"T_daf65_row4_col3\" class=\"data row4 col3\" >No</td>\n",
              "      <td id=\"T_daf65_row4_col4\" class=\"data row4 col4\" >23</td>\n",
              "      <td id=\"T_daf65_row4_col5\" class=\"data row4 col5\" >4175</td>\n",
              "      <td id=\"T_daf65_row4_col6\" class=\"data row4 col6\" >nan</td>\n",
              "      <td id=\"T_daf65_row4_col7\" class=\"data row4 col7\" >nan</td>\n",
              "    </tr>\n",
              "    <tr>\n",
              "      <td id=\"T_daf65_row5_col0\" class=\"data row5 col0\" >...</td>\n",
              "      <td id=\"T_daf65_row5_col1\" class=\"data row5 col1\" >...</td>\n",
              "      <td id=\"T_daf65_row5_col2\" class=\"data row5 col2\" >...</td>\n",
              "      <td id=\"T_daf65_row5_col3\" class=\"data row5 col3\" >...</td>\n",
              "      <td id=\"T_daf65_row5_col4\" class=\"data row5 col4\" >...</td>\n",
              "      <td id=\"T_daf65_row5_col5\" class=\"data row5 col5\" >...</td>\n",
              "      <td id=\"T_daf65_row5_col6\" class=\"data row5 col6\" >...</td>\n",
              "      <td id=\"T_daf65_row5_col7\" class=\"data row5 col7\" >...</td>\n",
              "    </tr>\n",
              "  </tbody>\n",
              "</table>\n"
            ],
            "text/plain": [
              "<pandas.io.formats.style.Styler at 0x1d7ffaef810>"
            ]
          },
          "metadata": {},
          "output_type": "display_data"
        }
      ],
      "source": [
        "SELECT\n",
        "*\n",
        "FROM `telco_churn.customer_status`\n",
        "WHERE cltv <= (SELECT ROUND(AVG(cltv),2) FROM telco_churn.customer_status) AND status <> \"Churned\""
      ]
    },
    {
      "cell_type": "markdown",
      "source": [
        "Selain menggunakan [status <> \"Churned] ; bisa digunakan juga *Syntax* [status NOT IN (\"Churned\")]"
      ],
      "metadata": {
        "id": "wd_Eq0uCdMr5"
      }
    },
    {
      "cell_type": "markdown",
      "metadata": {
        "id": "c3UG6LyhWlxb"
      },
      "source": [
        "#### <i><b><span style='color:#55679C'>Quest</span> : Pada tabel customer_status, Hitung besarnya presentase setiap status yang ada dan juga jumlah customer tiap statusnya!</b></i>"
      ]
    },
    {
      "cell_type": "code",
      "execution_count": null,
      "metadata": {
        "id": "7EpxpZdwWlxb",
        "outputId": "4ef7ffdc-3328-4c09-e9c5-9beca8a09215"
      },
      "outputs": [
        {
          "data": {
            "text/html": [
              "<style type=\"text/css\">\n",
              "</style>\n",
              "<table id=\"T_4361e\">\n",
              "  <thead>\n",
              "    <tr>\n",
              "      <th id=\"T_4361e_level0_col0\" class=\"col_heading level0 col0\" >status</th>\n",
              "      <th id=\"T_4361e_level0_col1\" class=\"col_heading level0 col1\" >total_customer</th>\n",
              "      <th id=\"T_4361e_level0_col2\" class=\"col_heading level0 col2\" >percentage</th>\n",
              "    </tr>\n",
              "  </thead>\n",
              "  <tbody>\n",
              "    <tr>\n",
              "      <td id=\"T_4361e_row0_col0\" class=\"data row0 col0\" >Churned</td>\n",
              "      <td id=\"T_4361e_row0_col1\" class=\"data row0 col1\" >1869</td>\n",
              "      <td id=\"T_4361e_row0_col2\" class=\"data row0 col2\" >26.54</td>\n",
              "    </tr>\n",
              "    <tr>\n",
              "      <td id=\"T_4361e_row1_col0\" class=\"data row1 col0\" >Joined</td>\n",
              "      <td id=\"T_4361e_row1_col1\" class=\"data row1 col1\" >454</td>\n",
              "      <td id=\"T_4361e_row1_col2\" class=\"data row1 col2\" >6.45</td>\n",
              "    </tr>\n",
              "    <tr>\n",
              "      <td id=\"T_4361e_row2_col0\" class=\"data row2 col0\" >Stayed</td>\n",
              "      <td id=\"T_4361e_row2_col1\" class=\"data row2 col1\" >4720</td>\n",
              "      <td id=\"T_4361e_row2_col2\" class=\"data row2 col2\" >67.02</td>\n",
              "    </tr>\n",
              "  </tbody>\n",
              "</table>\n"
            ],
            "text/plain": [
              "<pandas.io.formats.style.Styler at 0x1d7ff9e4a90>"
            ]
          },
          "metadata": {},
          "output_type": "display_data"
        }
      ],
      "source": [
        "SELECT\n",
        "  status,\n",
        "  COUNT(customer_id) AS total_customer,\n",
        "  ROUND(100 * COUNT(customer_id)/(SELECT COUNT(customer_id) FROM telco_churn.customer_status), 2) AS persentase\n",
        "FROM telco_churn.customer_status\n",
        "GROUP BY status;"
      ]
    },
    {
      "cell_type": "markdown",
      "source": [
        "Penggunaan *Syntax* **GROUP BY status** akan mengelompokan secara otomatis data-data yang berbeda dari setiap statusnya"
      ],
      "metadata": {
        "id": "U65dqWhOfOFA"
      }
    },
    {
      "cell_type": "markdown",
      "metadata": {
        "id": "1p6VZrcgWlxb"
      },
      "source": [
        "# <b>B. <span style='color:#0B2F9F'><code>CTE</code></span></b>\n",
        "CTE, atau Common Table Expression, adalah fitur dalam SQL yang memungkinkan Anda untuk mendefinisikan sebuah query sementara yang dapat digunakan dalam query lain. CTE membantu dalam membuat query lebih mudah dibaca dan dipelihara, serta memungkinkan penggunaan rekursi dalam query.\n",
        "\n",
        "<img src=\"https://learnsql.com/blog/sql-common-table-expression-guide/cte_syntax_example.webp\" width=\"50%\">"
      ]
    },
    {
      "cell_type": "markdown",
      "metadata": {
        "id": "qUmWkipBWlxc"
      },
      "source": [
        "#### <i><b><span style='color:#55679C'>Quest</span> : Hitung jumlah customer pada masing - masing offer & jenis contract!</b></i>"
      ]
    },
    {
      "cell_type": "code",
      "execution_count": null,
      "metadata": {
        "id": "HFtDJ6FOWlxc",
        "outputId": "5f1e22ce-6ade-4d30-8a23-cabcb5e1fe7a"
      },
      "outputs": [
        {
          "data": {
            "text/html": [
              "<style type=\"text/css\">\n",
              "</style>\n",
              "<table id=\"T_fb04f\">\n",
              "  <thead>\n",
              "    <tr>\n",
              "      <th id=\"T_fb04f_level0_col0\" class=\"col_heading level0 col0\" >offer</th>\n",
              "      <th id=\"T_fb04f_level0_col1\" class=\"col_heading level0 col1\" >contract</th>\n",
              "      <th id=\"T_fb04f_level0_col2\" class=\"col_heading level0 col2\" >total_customer</th>\n",
              "    </tr>\n",
              "  </thead>\n",
              "  <tbody>\n",
              "    <tr>\n",
              "      <td id=\"T_fb04f_row0_col0\" class=\"data row0 col0\" >Offer A</td>\n",
              "      <td id=\"T_fb04f_row0_col1\" class=\"data row0 col1\" >Month-to-Month</td>\n",
              "      <td id=\"T_fb04f_row0_col2\" class=\"data row0 col2\" >15</td>\n",
              "    </tr>\n",
              "    <tr>\n",
              "      <td id=\"T_fb04f_row1_col0\" class=\"data row1 col0\" >Offer A</td>\n",
              "      <td id=\"T_fb04f_row1_col1\" class=\"data row1 col1\" >One Year</td>\n",
              "      <td id=\"T_fb04f_row1_col2\" class=\"data row1 col2\" >97</td>\n",
              "    </tr>\n",
              "    <tr>\n",
              "      <td id=\"T_fb04f_row2_col0\" class=\"data row2 col0\" >Offer A</td>\n",
              "      <td id=\"T_fb04f_row2_col1\" class=\"data row2 col1\" >Two Year</td>\n",
              "      <td id=\"T_fb04f_row2_col2\" class=\"data row2 col2\" >408</td>\n",
              "    </tr>\n",
              "    <tr>\n",
              "      <td id=\"T_fb04f_row3_col0\" class=\"data row3 col0\" >Offer B</td>\n",
              "      <td id=\"T_fb04f_row3_col1\" class=\"data row3 col1\" >Month-to-Month</td>\n",
              "      <td id=\"T_fb04f_row3_col2\" class=\"data row3 col2\" >216</td>\n",
              "    </tr>\n",
              "    <tr>\n",
              "      <td id=\"T_fb04f_row4_col0\" class=\"data row4 col0\" >Offer B</td>\n",
              "      <td id=\"T_fb04f_row4_col1\" class=\"data row4 col1\" >One Year</td>\n",
              "      <td id=\"T_fb04f_row4_col2\" class=\"data row4 col2\" >317</td>\n",
              "    </tr>\n",
              "    <tr>\n",
              "      <td id=\"T_fb04f_row5_col0\" class=\"data row5 col0\" >Offer B</td>\n",
              "      <td id=\"T_fb04f_row5_col1\" class=\"data row5 col1\" >Two Year</td>\n",
              "      <td id=\"T_fb04f_row5_col2\" class=\"data row5 col2\" >291</td>\n",
              "    </tr>\n",
              "    <tr>\n",
              "      <td id=\"T_fb04f_row6_col0\" class=\"data row6 col0\" >Offer C</td>\n",
              "      <td id=\"T_fb04f_row6_col1\" class=\"data row6 col1\" >Month-to-Month</td>\n",
              "      <td id=\"T_fb04f_row6_col2\" class=\"data row6 col2\" >203</td>\n",
              "    </tr>\n",
              "    <tr>\n",
              "      <td id=\"T_fb04f_row7_col0\" class=\"data row7 col0\" >Offer C</td>\n",
              "      <td id=\"T_fb04f_row7_col1\" class=\"data row7 col1\" >One Year</td>\n",
              "      <td id=\"T_fb04f_row7_col2\" class=\"data row7 col2\" >143</td>\n",
              "    </tr>\n",
              "    <tr>\n",
              "      <td id=\"T_fb04f_row8_col0\" class=\"data row8 col0\" >Offer C</td>\n",
              "      <td id=\"T_fb04f_row8_col1\" class=\"data row8 col1\" >Two Year</td>\n",
              "      <td id=\"T_fb04f_row8_col2\" class=\"data row8 col2\" >69</td>\n",
              "    </tr>\n",
              "    <tr>\n",
              "      <td id=\"T_fb04f_row9_col0\" class=\"data row9 col0\" >Offer D</td>\n",
              "      <td id=\"T_fb04f_row9_col1\" class=\"data row9 col1\" >Month-to-Month</td>\n",
              "      <td id=\"T_fb04f_row9_col2\" class=\"data row9 col2\" >434</td>\n",
              "    </tr>\n",
              "    <tr>\n",
              "      <td id=\"T_fb04f_row10_col0\" class=\"data row10 col0\" >Offer D</td>\n",
              "      <td id=\"T_fb04f_row10_col1\" class=\"data row10 col1\" >One Year</td>\n",
              "      <td id=\"T_fb04f_row10_col2\" class=\"data row10 col2\" >111</td>\n",
              "    </tr>\n",
              "    <tr>\n",
              "      <td id=\"T_fb04f_row11_col0\" class=\"data row11 col0\" >Offer D</td>\n",
              "      <td id=\"T_fb04f_row11_col1\" class=\"data row11 col1\" >Two Year</td>\n",
              "      <td id=\"T_fb04f_row11_col2\" class=\"data row11 col2\" >57</td>\n",
              "    </tr>\n",
              "    <tr>\n",
              "      <td id=\"T_fb04f_row12_col0\" class=\"data row12 col0\" >Offer E</td>\n",
              "      <td id=\"T_fb04f_row12_col1\" class=\"data row12 col1\" >Month-to-Month</td>\n",
              "      <td id=\"T_fb04f_row12_col2\" class=\"data row12 col2\" >722</td>\n",
              "    </tr>\n",
              "    <tr>\n",
              "      <td id=\"T_fb04f_row13_col0\" class=\"data row13 col0\" >Offer E</td>\n",
              "      <td id=\"T_fb04f_row13_col1\" class=\"data row13 col1\" >One Year</td>\n",
              "      <td id=\"T_fb04f_row13_col2\" class=\"data row13 col2\" >40</td>\n",
              "    </tr>\n",
              "    <tr>\n",
              "      <td id=\"T_fb04f_row14_col0\" class=\"data row14 col0\" >Offer E</td>\n",
              "      <td id=\"T_fb04f_row14_col1\" class=\"data row14 col1\" >Two Year</td>\n",
              "      <td id=\"T_fb04f_row14_col2\" class=\"data row14 col2\" >43</td>\n",
              "    </tr>\n",
              "    <tr>\n",
              "      <td id=\"T_fb04f_row15_col0\" class=\"data row15 col0\" >nan</td>\n",
              "      <td id=\"T_fb04f_row15_col1\" class=\"data row15 col1\" >Month-to-Month</td>\n",
              "      <td id=\"T_fb04f_row15_col2\" class=\"data row15 col2\" >2020</td>\n",
              "    </tr>\n",
              "    <tr>\n",
              "      <td id=\"T_fb04f_row16_col0\" class=\"data row16 col0\" >nan</td>\n",
              "      <td id=\"T_fb04f_row16_col1\" class=\"data row16 col1\" >One Year</td>\n",
              "      <td id=\"T_fb04f_row16_col2\" class=\"data row16 col2\" >842</td>\n",
              "    </tr>\n",
              "    <tr>\n",
              "      <td id=\"T_fb04f_row17_col0\" class=\"data row17 col0\" >nan</td>\n",
              "      <td id=\"T_fb04f_row17_col1\" class=\"data row17 col1\" >Two Year</td>\n",
              "      <td id=\"T_fb04f_row17_col2\" class=\"data row17 col2\" >1015</td>\n",
              "    </tr>\n",
              "  </tbody>\n",
              "</table>\n"
            ],
            "text/plain": [
              "<pandas.io.formats.style.Styler at 0x1d7fc4d9350>"
            ]
          },
          "metadata": {},
          "output_type": "display_data"
        }
      ],
      "source": [
        "SELECT\n",
        "  offer,\n",
        "  contract,\n",
        "  COUNT(customer_id) as jumlah_customer\n",
        "FROM telco_churn.telco_services\n",
        "WHERE offer IS NOT NULL\n",
        "GROUP BY offer, contract\n",
        "ORDER BY offer ASC, contract ASC\n"
      ]
    },
    {
      "cell_type": "markdown",
      "metadata": {
        "id": "ROIBM-E5Wlxc"
      },
      "source": [
        "#### <i><b><span style='color:#55679C'>Quest</span> : Tampilkan kolom offer & jenis contract dimana jumlah customernya paling besar (saja)!</b></i>"
      ]
    },
    {
      "cell_type": "code",
      "execution_count": null,
      "metadata": {
        "id": "WLYhCbBvWlxd",
        "outputId": "527923ed-fe15-48df-a5de-f6e740284a23"
      },
      "outputs": [
        {
          "data": {
            "text/html": [
              "<style type=\"text/css\">\n",
              "</style>\n",
              "<table id=\"T_404ef\">\n",
              "  <thead>\n",
              "    <tr>\n",
              "      <th id=\"T_404ef_level0_col0\" class=\"col_heading level0 col0\" >offer</th>\n",
              "      <th id=\"T_404ef_level0_col1\" class=\"col_heading level0 col1\" >contract</th>\n",
              "      <th id=\"T_404ef_level0_col2\" class=\"col_heading level0 col2\" >total_customer</th>\n",
              "    </tr>\n",
              "  </thead>\n",
              "  <tbody>\n",
              "    <tr>\n",
              "      <td id=\"T_404ef_row0_col0\" class=\"data row0 col0\" >nan</td>\n",
              "      <td id=\"T_404ef_row0_col1\" class=\"data row0 col1\" >Month-to-Month</td>\n",
              "      <td id=\"T_404ef_row0_col2\" class=\"data row0 col2\" >2020</td>\n",
              "    </tr>\n",
              "  </tbody>\n",
              "</table>\n"
            ],
            "text/plain": [
              "<pandas.io.formats.style.Styler at 0x1d7ffd1d250>"
            ]
          },
          "metadata": {},
          "output_type": "display_data"
        }
      ],
      "source": [
        "WITH temp_offer AS (\n",
        "    SELECT\n",
        "      offer,\n",
        "      contract,\n",
        "      COUNT(customer_id) AS total_customer\n",
        "    FROM telco_churn.telco_services\n",
        "    GROUP BY offer, contract\n",
        ")\n",
        "  SELECT * FROM temp_offer\n",
        "  WHERE total_customer = (SELECT MAX(total_customer) FROM temp_offer)"
      ]
    },
    {
      "cell_type": "markdown",
      "source": [
        "Secara penulisan *SYNTAX*; perhatikan bahwa *Syntax* **WITH** digunakan untuk membuat table dari query yang sebelumnya dipakai. Sehingga pada Query Utama hanya tinggal mencari jumlah terbesar dari total_customernya"
      ],
      "metadata": {
        "id": "uaa31AykjFD8"
      }
    },
    {
      "cell_type": "markdown",
      "source": [
        "Atau apabila tidak menggunakan CTE, maka bisa menggunakan\n",
        "![Alternatif CTE.png](data:image/png;base64,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)"
      ],
      "metadata": {
        "id": "Tv-WjiAlht4l"
      }
    },
    {
      "cell_type": "markdown",
      "metadata": {
        "id": "opPk65ayWlxd"
      },
      "source": [
        "#### <i><b><span style='color:#55679C'>Quest</span> : Tampilkan customer_id, gender, age, tenure_in_month, total_revenue dan status dengan status = 'Churned' dan internet_type-nya = 'Fiber Optic'! (Terapkan CTE untuk mengoptimasi query ini)!</b></i>"
      ]
    },
    {
      "cell_type": "code",
      "execution_count": null,
      "metadata": {
        "id": "KJ6JhxNKWlxd",
        "outputId": "9f491b32-45eb-4573-8143-2a2dc982d7ba"
      },
      "outputs": [
        {
          "data": {
            "text/html": [
              "<style type=\"text/css\">\n",
              "</style>\n",
              "<table id=\"T_56399\">\n",
              "  <thead>\n",
              "    <tr>\n",
              "      <th id=\"T_56399_level0_col0\" class=\"col_heading level0 col0\" >customer_id</th>\n",
              "      <th id=\"T_56399_level0_col1\" class=\"col_heading level0 col1\" >gender</th>\n",
              "      <th id=\"T_56399_level0_col2\" class=\"col_heading level0 col2\" >age</th>\n",
              "      <th id=\"T_56399_level0_col3\" class=\"col_heading level0 col3\" >tenure_in_months</th>\n",
              "      <th id=\"T_56399_level0_col4\" class=\"col_heading level0 col4\" >total_revenue</th>\n",
              "      <th id=\"T_56399_level0_col5\" class=\"col_heading level0 col5\" >status</th>\n",
              "    </tr>\n",
              "  </thead>\n",
              "  <tbody>\n",
              "    <tr>\n",
              "      <td id=\"T_56399_row0_col0\" class=\"data row0 col0\" >7495-OOKFY</td>\n",
              "      <td id=\"T_56399_row0_col1\" class=\"data row0 col1\" >Female</td>\n",
              "      <td id=\"T_56399_row0_col2\" class=\"data row0 col2\" >74</td>\n",
              "      <td id=\"T_56399_row0_col3\" class=\"data row0 col3\" >8</td>\n",
              "      <td id=\"T_56399_row0_col4\" class=\"data row0 col4\" >1024.1</td>\n",
              "      <td id=\"T_56399_row0_col5\" class=\"data row0 col5\" >Churned</td>\n",
              "    </tr>\n",
              "    <tr>\n",
              "      <td id=\"T_56399_row1_col0\" class=\"data row1 col0\" >1658-BYGOY</td>\n",
              "      <td id=\"T_56399_row1_col1\" class=\"data row1 col1\" >Male</td>\n",
              "      <td id=\"T_56399_row1_col2\" class=\"data row1 col2\" >71</td>\n",
              "      <td id=\"T_56399_row1_col3\" class=\"data row1 col3\" >18</td>\n",
              "      <td id=\"T_56399_row1_col4\" class=\"data row1 col4\" >1910.88</td>\n",
              "      <td id=\"T_56399_row1_col5\" class=\"data row1 col5\" >Churned</td>\n",
              "    </tr>\n",
              "    <tr>\n",
              "      <td id=\"T_56399_row2_col0\" class=\"data row2 col0\" >4598-XLKNJ</td>\n",
              "      <td id=\"T_56399_row2_col1\" class=\"data row2 col1\" >Female</td>\n",
              "      <td id=\"T_56399_row2_col2\" class=\"data row2 col2\" >78</td>\n",
              "      <td id=\"T_56399_row2_col3\" class=\"data row2 col3\" >25</td>\n",
              "      <td id=\"T_56399_row2_col4\" class=\"data row2 col4\" >2995.07</td>\n",
              "      <td id=\"T_56399_row2_col5\" class=\"data row2 col5\" >Churned</td>\n",
              "    </tr>\n",
              "    <tr>\n",
              "      <td id=\"T_56399_row3_col0\" class=\"data row3 col0\" >4846-WHAFZ</td>\n",
              "      <td id=\"T_56399_row3_col1\" class=\"data row3 col1\" >Female</td>\n",
              "      <td id=\"T_56399_row3_col2\" class=\"data row3 col2\" >80</td>\n",
              "      <td id=\"T_56399_row3_col3\" class=\"data row3 col3\" >37</td>\n",
              "      <td id=\"T_56399_row3_col4\" class=\"data row3 col4\" >3102.36</td>\n",
              "      <td id=\"T_56399_row3_col5\" class=\"data row3 col5\" >Churned</td>\n",
              "    </tr>\n",
              "    <tr>\n",
              "      <td id=\"T_56399_row4_col0\" class=\"data row4 col0\" >4412-YLTKF</td>\n",
              "      <td id=\"T_56399_row4_col1\" class=\"data row4 col1\" >Female</td>\n",
              "      <td id=\"T_56399_row4_col2\" class=\"data row4 col2\" >72</td>\n",
              "      <td id=\"T_56399_row4_col3\" class=\"data row4 col3\" >27</td>\n",
              "      <td id=\"T_56399_row4_col4\" class=\"data row4 col4\" >2235.41</td>\n",
              "      <td id=\"T_56399_row4_col5\" class=\"data row4 col5\" >Churned</td>\n",
              "    </tr>\n",
              "    <tr>\n",
              "      <td id=\"T_56399_row5_col0\" class=\"data row5 col0\" >...</td>\n",
              "      <td id=\"T_56399_row5_col1\" class=\"data row5 col1\" >...</td>\n",
              "      <td id=\"T_56399_row5_col2\" class=\"data row5 col2\" >...</td>\n",
              "      <td id=\"T_56399_row5_col3\" class=\"data row5 col3\" >...</td>\n",
              "      <td id=\"T_56399_row5_col4\" class=\"data row5 col4\" >...</td>\n",
              "      <td id=\"T_56399_row5_col5\" class=\"data row5 col5\" >...</td>\n",
              "    </tr>\n",
              "  </tbody>\n",
              "</table>\n"
            ],
            "text/plain": [
              "<pandas.io.formats.style.Styler at 0x1d7ff904c90>"
            ]
          },
          "metadata": {},
          "output_type": "display_data"
        }
      ],
      "source": [
        "WITH demo_cte AS (\n",
        "  SELECT customer_id, gender, age\n",
        "  FROM telco_churn.customer_demography)\n",
        "  ,\n",
        "  services_cte AS (\n",
        "    SELECT customer_id, tenure_in_months, total_revenue, internet_type\n",
        "    FROM `telco_churn.telco_services`\n",
        "    WHERE internet_type = \"Fiber Optic\"\n",
        "  )\n",
        "  ,\n",
        "  status_cte AS (\n",
        "    SELECT customer_id, status\n",
        "    FROM `telco_churn.customer_status`\n",
        "    WHERE status = \"Churned\"\n",
        "  )\n",
        "\n",
        "SELECT\n",
        "  a.customer_id,\n",
        "  a.gender,\n",
        "  a.age,\n",
        "  b.tenure_in_months,\n",
        "  b.total_revenue,\n",
        "  b.internet_type,\n",
        "  c.status\n",
        "FROM demo_cte a\n",
        "JOIN services_cte b ON a.customer_id = b.customer_id\n",
        "JOIN status_cte c ON a.customer_id = c.customer_id"
      ]
    },
    {
      "cell_type": "markdown",
      "source": [
        "Penulisan CTE query diatas harus dihubungkan dengan nama *column* data yang sama, yaitu **customer_id**. Sehingga setelah terhubung, digunakan Syntas **JOIN** untuk menghubungkan dari 3 Table yang berbeda: [**customer_status , customer_demography , dan telco_services**].\n",
        "\n",
        "Selain itu penggunaan CTE dilakukan untuk langsung menyaring data status: \"**Churned**\" dan internet_type: \"**Fiber Optic**\""
      ],
      "metadata": {
        "id": "ItupHxRAiAEv"
      }
    },
    {
      "cell_type": "markdown",
      "source": [
        "\n",
        "---\n",
        "Powered by : <br>\n",
        "<img src=\"https://lh3.googleusercontent.com/ayfbbgvQolM_Ys9VYRVFD6FjDJXSebI9sN1VtY4ppp65dXepA6JCKgKMM_porWAErGQmc8l-L_RXq080SJ3FbYTIsyxYqWWTuAX8A3VtafWLUwAnnxNnjR1s-3BMCUlF34fYnViLuutxrLm3nEpoix0\" width=\"20%\">\n",
        "<br><br>\n",
        "<a href=\"https://www.linkedin.com/in/kennynathane/\"><img src=\"https://img.shields.io/badge/-© 2025 Kenny Nathane-417DAC?style=for-the-badge&logoColor=white\"/></a>"
      ],
      "metadata": {
        "id": "grgOitNCW86n"
      }
    }
  ],
  "metadata": {
    "kernelspec": {
      "display_name": "Python 3",
      "language": "python",
      "name": "python3"
    },
    "language_info": {
      "codemirror_mode": {
        "name": "ipython",
        "version": 3
      },
      "file_extension": ".py",
      "mimetype": "text/x-python",
      "name": "python",
      "nbconvert_exporter": "python",
      "pygments_lexer": "ipython3",
      "version": "3.11.3"
    },
    "colab": {
      "provenance": []
    }
  },
  "nbformat": 4,
  "nbformat_minor": 0
}