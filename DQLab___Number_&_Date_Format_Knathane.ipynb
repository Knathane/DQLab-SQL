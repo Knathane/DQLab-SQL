{
  "cells": [
    {
      "cell_type": "markdown",
      "metadata": {
        "id": "Lklc5dUOWsaF"
      },
      "source": [
        "# <b>A. <span style='color:#0B2F9F'><code>DATA TYPE</code></span></b>\n",
        "\n",
        "Data type dalam BigQuery adalah cara untuk mendefinisikan jenis data yang akan disimpan dalam tabel. Setiap kolom dalam tabel memiliki tipe data tertentu, yang menentukan apa yang dapat disimpan di kolom tersebut dan bagaimana data tersebut dapat diproses. Memahami tipe data ini penting untuk desain skema yang efisien dan untuk memastikan bahwa kueri dapat dijalankan dengan optimal.\n",
        "\n",
        "<br>\n",
        "<img src=\"https://hackolade.com/help/lib/BigQuery%20data%20types%20table.png\" width=\"40%\">\n",
        "\n",
        "docs : <i><a href=\"https://cloud.google.com/bigquery/docs/reference/standard-sql/data-types\">https://cloud.google.com/bigquery/docs/reference/standard-sql/data-types</a></i>"
      ]
    },
    {
      "cell_type": "markdown",
      "metadata": {
        "id": "fOmHsbXKi1Hi"
      },
      "source": [
        "# <b>B. <span style='color:#0B2F9F'><code>Operasi Tipe Data Numerik</code></span></b>\n",
        "\n",
        "Dalam SQL, tipe data numerik digunakan untuk menyimpan nilai angka dan dapat dikelompokkan menjadi beberapa jenis sesuai peruntukannya (INT, FLOAT, NUMERIC, dll). Selain itu pada tipe data Numerik juga dapat dilakukan operasi matematis diantaranya :\n",
        "<ol>\n",
        "    <li>Operasi Aritmatika</li>\n",
        "    <li>Fungsi Matematis</li>\n",
        "    <li>Agregasi</li>\n",
        "</ol>\n",
        "\n",
        "<i>Note : Untuk materi agregasi akan diletakkan secara terpisah dari modul ini</i>"
      ]
    },
    {
      "cell_type": "markdown",
      "metadata": {
        "id": "KZcuvAjkY04T"
      },
      "source": [
        "## <b>B.1. <span style='color:#0B2F9F'><code>Operasi Aritmatika</code></span></b>\n",
        "SQL mendukung operasi dasar aritmatika seperti penjumlahan, pengurangan, perkalian, pembagian dan modulo.\n",
        "\n",
        "<img src=\"https://mazamanbd.wordpress.com/wp-content/uploads/2014/09/dd.jpg\"><br><br>\n",
        "\n",
        "Untuk dapat menerapkannya pada sebuah tabel gunakan contoh format berikut\n",
        "\n",
        "<img src=\"https://raw.githubusercontent.com/bachtiyarma/Material/refs/heads/main/Image/Materi-SQL/SQL%20-%20OperasiAritmatika.png\" width=\"50%\">\n",
        "\n",
        "<i>docs : <a href=\"https://cloud.google.com/bigquery/docs/reference/standard-sql/operators\">https://cloud.google.com/bigquery/docs/reference/standard-sql/operators</a></i>"
      ]
    },
    {
      "cell_type": "markdown",
      "metadata": {
        "id": "J4Sb6M8Ui1Hn"
      },
      "source": [
        "#### <i><b><span style='color:#55679C'>Quest</span> : Tower untuk memancarkan sinyal milik perusahaan telekomunikasi hanya dapat menjangkau maksimum radius 10 km. Hitung luas area jangkauan tower tersebut jika diasumsikan jangkauannya berbentuk lingkaran! (Aproksimasi nilai &pi; = 22/7)</b></i>"
      ]
    },
    {
      "cell_type": "code",
      "execution_count": null,
      "metadata": {
        "id": "1MA8A4jli1Hp",
        "outputId": "ef9ad69e-3682-48bd-f77b-db8bba4c2b80"
      },
      "outputs": [
        {
          "data": {
            "text/plain": [
              "314.2857142857143"
            ]
          },
          "execution_count": 1,
          "metadata": {},
          "output_type": "execute_result"
        }
      ],
      "source": [
        "SELECT (22/7)*10*10 AS luas_area_jangkauan"
      ]
    },
    {
      "cell_type": "markdown",
      "metadata": {
        "id": "7gZ0K01Zi1Hs"
      },
      "source": [
        "#### <i><b><span style='color:#55679C'>Quest</span> : Tampilkan kolom customer_id, total_revenue dan total_revenue_after_tax pada tabel telco_services, dimana kolom total_revenue_after_tax merupakan total_revenue dikurangi pajak 10% yang harus dibayarkan! Urutkan berdasarkan total_revenue dari yang terbesar juga</b></i>"
      ]
    },
    {
      "cell_type": "code",
      "execution_count": null,
      "metadata": {
        "id": "nVVLwPCMi1Ht",
        "outputId": "ee70235a-8a64-4d23-ec66-90064345d61b"
      },
      "outputs": [
        {
          "data": {
            "text/html": [
              "<style type=\"text/css\">\n",
              "</style>\n",
              "<table id=\"T_9dbce\">\n",
              "  <thead>\n",
              "    <tr>\n",
              "      <th id=\"T_9dbce_level0_col0\" class=\"col_heading level0 col0\" >customer_id</th>\n",
              "      <th id=\"T_9dbce_level0_col1\" class=\"col_heading level0 col1\" >total_revenue</th>\n",
              "      <th id=\"T_9dbce_level0_col2\" class=\"col_heading level0 col2\" >total_revenue_after_tax</th>\n",
              "    </tr>\n",
              "  </thead>\n",
              "  <tbody>\n",
              "    <tr>\n",
              "      <td id=\"T_9dbce_row0_col0\" class=\"data row0 col0\" >0164-APGRB</td>\n",
              "      <td id=\"T_9dbce_row0_col1\" class=\"data row0 col1\" >11979.34</td>\n",
              "      <td id=\"T_9dbce_row0_col2\" class=\"data row0 col2\" >10781.41</td>\n",
              "    </tr>\n",
              "    <tr>\n",
              "      <td id=\"T_9dbce_row1_col0\" class=\"data row1 col0\" >8263-QMNTJ</td>\n",
              "      <td id=\"T_9dbce_row1_col1\" class=\"data row1 col1\" >11868.34</td>\n",
              "      <td id=\"T_9dbce_row1_col2\" class=\"data row1 col2\" >10681.51</td>\n",
              "    </tr>\n",
              "    <tr>\n",
              "      <td id=\"T_9dbce_row2_col0\" class=\"data row2 col0\" >5451-YHYPW</td>\n",
              "      <td id=\"T_9dbce_row2_col1\" class=\"data row2 col1\" >11795.78</td>\n",
              "      <td id=\"T_9dbce_row2_col2\" class=\"data row2 col2\" >10616.2</td>\n",
              "    </tr>\n",
              "    <tr>\n",
              "      <td id=\"T_9dbce_row3_col0\" class=\"data row3 col0\" >3810-DVDQQ</td>\n",
              "      <td id=\"T_9dbce_row3_col1\" class=\"data row3 col1\" >11688.9</td>\n",
              "      <td id=\"T_9dbce_row3_col2\" class=\"data row3 col2\" >10520.01</td>\n",
              "    </tr>\n",
              "    <tr>\n",
              "      <td id=\"T_9dbce_row4_col0\" class=\"data row4 col0\" >7569-NMZYQ</td>\n",
              "      <td id=\"T_9dbce_row4_col1\" class=\"data row4 col1\" >11634.53</td>\n",
              "      <td id=\"T_9dbce_row4_col2\" class=\"data row4 col2\" >10471.08</td>\n",
              "    </tr>\n",
              "    <tr>\n",
              "      <td id=\"T_9dbce_row5_col0\" class=\"data row5 col0\" >3963-RYFNS</td>\n",
              "      <td id=\"T_9dbce_row5_col1\" class=\"data row5 col1\" >11596.99</td>\n",
              "      <td id=\"T_9dbce_row5_col2\" class=\"data row5 col2\" >10437.29</td>\n",
              "    </tr>\n",
              "    <tr>\n",
              "      <td id=\"T_9dbce_row6_col0\" class=\"data row6 col0\" >9351-HXDMR</td>\n",
              "      <td id=\"T_9dbce_row6_col1\" class=\"data row6 col1\" >11564.37</td>\n",
              "      <td id=\"T_9dbce_row6_col2\" class=\"data row6 col2\" >10407.93</td>\n",
              "    </tr>\n",
              "    <tr>\n",
              "      <td id=\"T_9dbce_row7_col0\" class=\"data row7 col0\" >5914-XRFQB</td>\n",
              "      <td id=\"T_9dbce_row7_col1\" class=\"data row7 col1\" >11529.54</td>\n",
              "      <td id=\"T_9dbce_row7_col2\" class=\"data row7 col2\" >10376.59</td>\n",
              "    </tr>\n",
              "    <tr>\n",
              "      <td id=\"T_9dbce_row8_col0\" class=\"data row8 col0\" >0619-OLYUR</td>\n",
              "      <td id=\"T_9dbce_row8_col1\" class=\"data row8 col1\" >11514.81</td>\n",
              "      <td id=\"T_9dbce_row8_col2\" class=\"data row8 col2\" >10363.33</td>\n",
              "    </tr>\n",
              "    <tr>\n",
              "      <td id=\"T_9dbce_row9_col0\" class=\"data row9 col0\" >3508-CFVZL</td>\n",
              "      <td id=\"T_9dbce_row9_col1\" class=\"data row9 col1\" >11501.82</td>\n",
              "      <td id=\"T_9dbce_row9_col2\" class=\"data row9 col2\" >10351.64</td>\n",
              "    </tr>\n",
              "    <tr>\n",
              "      <td id=\"T_9dbce_row10_col0\" class=\"data row10 col0\" >...</td>\n",
              "      <td id=\"T_9dbce_row10_col1\" class=\"data row10 col1\" >...</td>\n",
              "      <td id=\"T_9dbce_row10_col2\" class=\"data row10 col2\" >...</td>\n",
              "    </tr>\n",
              "  </tbody>\n",
              "</table>\n"
            ],
            "text/plain": [
              "<pandas.io.formats.style.Styler at 0x140818f90>"
            ]
          },
          "metadata": {},
          "output_type": "display_data"
        }
      ],
      "source": [
        "SELECT\n",
        "  customer_id,\n",
        "  total_revenue,\n",
        "  ROUND(total_revenue*0.9,2) AS total_revenue_after_tax\n",
        "FROM telco_churn.telco_services\n",
        "ORDER BY total_revenue DESC"
      ]
    },
    {
      "cell_type": "markdown",
      "source": [
        "Notes: Gunakan \".\" sebagai koma dalam menuliskan numerik\n",
        "**Fokus** pada: [total_revenue dikali 0.9]"
      ],
      "metadata": {
        "id": "XfPEmNAtk3Rj"
      }
    },
    {
      "cell_type": "markdown",
      "metadata": {
        "id": "lBypCMQdi1Hw"
      },
      "source": [
        "#### <i><b><span style='color:#55679C'>Quest</span></b></i>\n",
        "Perusahaan ingin menerapkan discount tertentu dengan syarat berikut :\n",
        "<ul>\n",
        "    <li>Jika <code>tenure_in_months</code> dibawah satu tahun, maka beri discount 2% pada biaya bulanan pelanggan</li>\n",
        "    <li>Jika <code>tenure_in_months</code> diantara 1 - 3 tahun, maka beri discount 5% pada biaya bulanan pelanggan</li>\n",
        "    <li>Jika <code>tenure_in_months</code> diatas 3 tahun, maka beri discount 10% pada biaya bulanan pelanggan</li>\n",
        "</ul><br>\n",
        "Tampilkan customer_id, tenure_in_months, monthly_charge, discount (potongan charge bukan presentasenya) dan monthly_charge_after_disc!"
      ]
    },
    {
      "cell_type": "code",
      "execution_count": null,
      "metadata": {
        "id": "p82ki-JHi1Hy",
        "outputId": "01fb1a77-8818-4e0a-a2b1-7b241924d229"
      },
      "outputs": [
        {
          "data": {
            "text/html": [
              "<style type=\"text/css\">\n",
              "</style>\n",
              "<table id=\"T_106d9\">\n",
              "  <thead>\n",
              "    <tr>\n",
              "      <th id=\"T_106d9_level0_col0\" class=\"col_heading level0 col0\" >customer_id</th>\n",
              "      <th id=\"T_106d9_level0_col1\" class=\"col_heading level0 col1\" >tenure_in_months</th>\n",
              "      <th id=\"T_106d9_level0_col2\" class=\"col_heading level0 col2\" >monthly_charge</th>\n",
              "      <th id=\"T_106d9_level0_col3\" class=\"col_heading level0 col3\" >discount</th>\n",
              "      <th id=\"T_106d9_level0_col4\" class=\"col_heading level0 col4\" >monthly_charge_after_disc</th>\n",
              "    </tr>\n",
              "  </thead>\n",
              "  <tbody>\n",
              "    <tr>\n",
              "      <td id=\"T_106d9_row0_col0\" class=\"data row0 col0\" >8779-QRDMV</td>\n",
              "      <td id=\"T_106d9_row0_col1\" class=\"data row0 col1\" >1</td>\n",
              "      <td id=\"T_106d9_row0_col2\" class=\"data row0 col2\" >39.65</td>\n",
              "      <td id=\"T_106d9_row0_col3\" class=\"data row0 col3\" >0.79</td>\n",
              "      <td id=\"T_106d9_row0_col4\" class=\"data row0 col4\" >38.86</td>\n",
              "    </tr>\n",
              "    <tr>\n",
              "      <td id=\"T_106d9_row1_col0\" class=\"data row1 col0\" >7495-OOKFY</td>\n",
              "      <td id=\"T_106d9_row1_col1\" class=\"data row1 col1\" >8</td>\n",
              "      <td id=\"T_106d9_row1_col2\" class=\"data row1 col2\" >80.65</td>\n",
              "      <td id=\"T_106d9_row1_col3\" class=\"data row1 col3\" >1.61</td>\n",
              "      <td id=\"T_106d9_row1_col4\" class=\"data row1 col4\" >79.04</td>\n",
              "    </tr>\n",
              "    <tr>\n",
              "      <td id=\"T_106d9_row2_col0\" class=\"data row2 col0\" >1658-BYGOY</td>\n",
              "      <td id=\"T_106d9_row2_col1\" class=\"data row2 col1\" >18</td>\n",
              "      <td id=\"T_106d9_row2_col2\" class=\"data row2 col2\" >95.45</td>\n",
              "      <td id=\"T_106d9_row2_col3\" class=\"data row2 col3\" >4.77</td>\n",
              "      <td id=\"T_106d9_row2_col4\" class=\"data row2 col4\" >90.68</td>\n",
              "    </tr>\n",
              "    <tr>\n",
              "      <td id=\"T_106d9_row3_col0\" class=\"data row3 col0\" >4598-XLKNJ</td>\n",
              "      <td id=\"T_106d9_row3_col1\" class=\"data row3 col1\" >25</td>\n",
              "      <td id=\"T_106d9_row3_col2\" class=\"data row3 col2\" >98.5</td>\n",
              "      <td id=\"T_106d9_row3_col3\" class=\"data row3 col3\" >4.93</td>\n",
              "      <td id=\"T_106d9_row3_col4\" class=\"data row3 col4\" >93.58</td>\n",
              "    </tr>\n",
              "    <tr>\n",
              "      <td id=\"T_106d9_row4_col0\" class=\"data row4 col0\" >4846-WHAFZ</td>\n",
              "      <td id=\"T_106d9_row4_col1\" class=\"data row4 col1\" >37</td>\n",
              "      <td id=\"T_106d9_row4_col2\" class=\"data row4 col2\" >76.5</td>\n",
              "      <td id=\"T_106d9_row4_col3\" class=\"data row4 col3\" >7.65</td>\n",
              "      <td id=\"T_106d9_row4_col4\" class=\"data row4 col4\" >68.85</td>\n",
              "    </tr>\n",
              "    <tr>\n",
              "      <td id=\"T_106d9_row5_col0\" class=\"data row5 col0\" >4412-YLTKF</td>\n",
              "      <td id=\"T_106d9_row5_col1\" class=\"data row5 col1\" >27</td>\n",
              "      <td id=\"T_106d9_row5_col2\" class=\"data row5 col2\" >78.05</td>\n",
              "      <td id=\"T_106d9_row5_col3\" class=\"data row5 col3\" >3.9</td>\n",
              "      <td id=\"T_106d9_row5_col4\" class=\"data row5 col4\" >74.15</td>\n",
              "    </tr>\n",
              "    <tr>\n",
              "      <td id=\"T_106d9_row6_col0\" class=\"data row6 col0\" >0390-DCFDQ</td>\n",
              "      <td id=\"T_106d9_row6_col1\" class=\"data row6 col1\" >1</td>\n",
              "      <td id=\"T_106d9_row6_col2\" class=\"data row6 col2\" >70.45</td>\n",
              "      <td id=\"T_106d9_row6_col3\" class=\"data row6 col3\" >1.41</td>\n",
              "      <td id=\"T_106d9_row6_col4\" class=\"data row6 col4\" >69.04</td>\n",
              "    </tr>\n",
              "    <tr>\n",
              "      <td id=\"T_106d9_row7_col0\" class=\"data row7 col0\" >3445-HXXGF</td>\n",
              "      <td id=\"T_106d9_row7_col1\" class=\"data row7 col1\" >58</td>\n",
              "      <td id=\"T_106d9_row7_col2\" class=\"data row7 col2\" >45.3</td>\n",
              "      <td id=\"T_106d9_row7_col3\" class=\"data row7 col3\" >4.53</td>\n",
              "      <td id=\"T_106d9_row7_col4\" class=\"data row7 col4\" >40.77</td>\n",
              "    </tr>\n",
              "    <tr>\n",
              "      <td id=\"T_106d9_row8_col0\" class=\"data row8 col0\" >2656-FMOKZ</td>\n",
              "      <td id=\"T_106d9_row8_col1\" class=\"data row8 col1\" >15</td>\n",
              "      <td id=\"T_106d9_row8_col2\" class=\"data row8 col2\" >74.45</td>\n",
              "      <td id=\"T_106d9_row8_col3\" class=\"data row8 col3\" >3.72</td>\n",
              "      <td id=\"T_106d9_row8_col4\" class=\"data row8 col4\" >70.73</td>\n",
              "    </tr>\n",
              "    <tr>\n",
              "      <td id=\"T_106d9_row9_col0\" class=\"data row9 col0\" >2070-FNEXE</td>\n",
              "      <td id=\"T_106d9_row9_col1\" class=\"data row9 col1\" >7</td>\n",
              "      <td id=\"T_106d9_row9_col2\" class=\"data row9 col2\" >76.45</td>\n",
              "      <td id=\"T_106d9_row9_col3\" class=\"data row9 col3\" >1.53</td>\n",
              "      <td id=\"T_106d9_row9_col4\" class=\"data row9 col4\" >74.92</td>\n",
              "    </tr>\n",
              "    <tr>\n",
              "      <td id=\"T_106d9_row10_col0\" class=\"data row10 col0\" >...</td>\n",
              "      <td id=\"T_106d9_row10_col1\" class=\"data row10 col1\" >...</td>\n",
              "      <td id=\"T_106d9_row10_col2\" class=\"data row10 col2\" >...</td>\n",
              "      <td id=\"T_106d9_row10_col3\" class=\"data row10 col3\" >...</td>\n",
              "      <td id=\"T_106d9_row10_col4\" class=\"data row10 col4\" >...</td>\n",
              "    </tr>\n",
              "  </tbody>\n",
              "</table>\n"
            ],
            "text/plain": [
              "<pandas.io.formats.style.Styler at 0x1428a8f90>"
            ]
          },
          "metadata": {},
          "output_type": "display_data"
        }
      ],
      "source": [
        "SELECT\n",
        "  customer_id,\n",
        "  tenure_in_months,\n",
        "  monthly_charge,\n",
        "  CASE\n",
        "    WHEN tenure_in_months < 12 THEN ROUND((monthly_charge * 0.02),2)\n",
        "    WHEN tenure_in_months <= 12 OR tenure_in_months < 36 THEN ROUND((monthly_charge * 0.05),2)\n",
        "    WHEN tenure_in_months > 36 THEN ROUND((monthly_charge * 0.1),2)\n",
        "    END AS discount,\n",
        "  CASE\n",
        "    WHEN tenure_in_months < 12 THEN ROUND((monthly_charge - (monthly_charge* 0.02)),2)\n",
        "    WHEN tenure_in_months <= 12 OR tenure_in_months < 36 THEN ROUND((monthly_charge - (monthly_charge * 0.05)),2)\n",
        "    WHEN tenure_in_months > 36 THEN ROUND((monthly_charge - (monthly_charge * 0.1)),2)\n",
        "    END AS monthly_charge_after_disc\n",
        "  FROM telco_churn.telco_services"
      ]
    },
    {
      "cell_type": "markdown",
      "source": [
        "Dalam menggunakan syntax **CASE WHEN**, kita juga bisa menggabungkannya dalam perhitungan. Sebagai contoh:![image.png](data:image/png;base64,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)"
      ],
      "metadata": {
        "id": "pnqkGBuZzrez"
      }
    },
    {
      "cell_type": "markdown",
      "metadata": {
        "id": "oenrFDN8i1Hz"
      },
      "source": [
        "#### <i><b><span style='color:#55679C'>Quest</span> : Customer Loyalty Score (CLS) adalah metrik yang digunakan untuk mengukur tingkat kesetiaan pelanggan terhadap suatu brand atau perusahaan. Metrik ini dapat membantu perusahaan memahami seberapa kuat hubungan mereka dengan pelanggan.</b></i><br>\n",
        "Customer Loyalty Score dapat dirumuskan sebagai :\n",
        "\\begin{equation}\n",
        "\\text{Customer Loyalty Score (CLS)} = \\text{Customer Satisfaction Score} \\times \\frac{\\text{CLTV}}{100}\n",
        "\\end{equation}\n",
        "\n",
        "Pada tabel `customer_status`, tampilkan kolom customer_id, cltv, satisfaction_score, cls dan status!"
      ]
    },
    {
      "cell_type": "code",
      "execution_count": null,
      "metadata": {
        "id": "OoizPBOsi1H0",
        "outputId": "b895a354-55d4-48b3-d868-ce5410c71669"
      },
      "outputs": [
        {
          "data": {
            "text/html": [
              "<style type=\"text/css\">\n",
              "</style>\n",
              "<table id=\"T_fd49b\">\n",
              "  <thead>\n",
              "    <tr>\n",
              "      <th id=\"T_fd49b_level0_col0\" class=\"col_heading level0 col0\" >customer_id</th>\n",
              "      <th id=\"T_fd49b_level0_col1\" class=\"col_heading level0 col1\" >cltv</th>\n",
              "      <th id=\"T_fd49b_level0_col2\" class=\"col_heading level0 col2\" >satisfaction_score</th>\n",
              "      <th id=\"T_fd49b_level0_col3\" class=\"col_heading level0 col3\" >cls</th>\n",
              "      <th id=\"T_fd49b_level0_col4\" class=\"col_heading level0 col4\" >status</th>\n",
              "    </tr>\n",
              "  </thead>\n",
              "  <tbody>\n",
              "    <tr>\n",
              "      <td id=\"T_fd49b_row0_col0\" class=\"data row0 col0\" >2800-VEQXM</td>\n",
              "      <td id=\"T_fd49b_row0_col1\" class=\"data row0 col1\" >3319</td>\n",
              "      <td id=\"T_fd49b_row0_col2\" class=\"data row0 col2\" >3</td>\n",
              "      <td id=\"T_fd49b_row0_col3\" class=\"data row0 col3\" >99.57</td>\n",
              "      <td id=\"T_fd49b_row0_col4\" class=\"data row0 col4\" >Joined</td>\n",
              "    </tr>\n",
              "    <tr>\n",
              "      <td id=\"T_fd49b_row1_col0\" class=\"data row1 col0\" >6865-JZNKO</td>\n",
              "      <td id=\"T_fd49b_row1_col1\" class=\"data row1 col1\" >2725</td>\n",
              "      <td id=\"T_fd49b_row1_col2\" class=\"data row1 col2\" >4</td>\n",
              "      <td id=\"T_fd49b_row1_col3\" class=\"data row1 col3\" >109.0</td>\n",
              "      <td id=\"T_fd49b_row1_col4\" class=\"data row1 col4\" >Stayed</td>\n",
              "    </tr>\n",
              "    <tr>\n",
              "      <td id=\"T_fd49b_row2_col0\" class=\"data row2 col0\" >8332-OSJDW</td>\n",
              "      <td id=\"T_fd49b_row2_col1\" class=\"data row2 col1\" >3277</td>\n",
              "      <td id=\"T_fd49b_row2_col2\" class=\"data row2 col2\" >4</td>\n",
              "      <td id=\"T_fd49b_row2_col3\" class=\"data row2 col3\" >131.08</td>\n",
              "      <td id=\"T_fd49b_row2_col4\" class=\"data row2 col4\" >Stayed</td>\n",
              "    </tr>\n",
              "    <tr>\n",
              "      <td id=\"T_fd49b_row3_col0\" class=\"data row3 col0\" >9362-MWODR</td>\n",
              "      <td id=\"T_fd49b_row3_col1\" class=\"data row3 col1\" >5056</td>\n",
              "      <td id=\"T_fd49b_row3_col2\" class=\"data row3 col2\" >3</td>\n",
              "      <td id=\"T_fd49b_row3_col3\" class=\"data row3 col3\" >151.68</td>\n",
              "      <td id=\"T_fd49b_row3_col4\" class=\"data row3 col4\" >Stayed</td>\n",
              "    </tr>\n",
              "    <tr>\n",
              "      <td id=\"T_fd49b_row4_col0\" class=\"data row4 col0\" >0811-GSDTP</td>\n",
              "      <td id=\"T_fd49b_row4_col1\" class=\"data row4 col1\" >3540</td>\n",
              "      <td id=\"T_fd49b_row4_col2\" class=\"data row4 col2\" >5</td>\n",
              "      <td id=\"T_fd49b_row4_col3\" class=\"data row4 col3\" >177.0</td>\n",
              "      <td id=\"T_fd49b_row4_col4\" class=\"data row4 col4\" >Stayed</td>\n",
              "    </tr>\n",
              "    <tr>\n",
              "      <td id=\"T_fd49b_row5_col0\" class=\"data row5 col0\" >4213-HKBJO</td>\n",
              "      <td id=\"T_fd49b_row5_col1\" class=\"data row5 col1\" >3378</td>\n",
              "      <td id=\"T_fd49b_row5_col2\" class=\"data row5 col2\" >4</td>\n",
              "      <td id=\"T_fd49b_row5_col3\" class=\"data row5 col3\" >135.12</td>\n",
              "      <td id=\"T_fd49b_row5_col4\" class=\"data row5 col4\" >Stayed</td>\n",
              "    </tr>\n",
              "    <tr>\n",
              "      <td id=\"T_fd49b_row6_col0\" class=\"data row6 col0\" >2135-RXIHG</td>\n",
              "      <td id=\"T_fd49b_row6_col1\" class=\"data row6 col1\" >2600</td>\n",
              "      <td id=\"T_fd49b_row6_col2\" class=\"data row6 col2\" >1</td>\n",
              "      <td id=\"T_fd49b_row6_col3\" class=\"data row6 col3\" >26.0</td>\n",
              "      <td id=\"T_fd49b_row6_col4\" class=\"data row6 col4\" >Churned</td>\n",
              "    </tr>\n",
              "    <tr>\n",
              "      <td id=\"T_fd49b_row7_col0\" class=\"data row7 col0\" >5451-YHYPW</td>\n",
              "      <td id=\"T_fd49b_row7_col1\" class=\"data row7 col1\" >6205</td>\n",
              "      <td id=\"T_fd49b_row7_col2\" class=\"data row7 col2\" >3</td>\n",
              "      <td id=\"T_fd49b_row7_col3\" class=\"data row7 col3\" >186.15</td>\n",
              "      <td id=\"T_fd49b_row7_col4\" class=\"data row7 col4\" >Stayed</td>\n",
              "    </tr>\n",
              "    <tr>\n",
              "      <td id=\"T_fd49b_row8_col0\" class=\"data row8 col0\" >5918-VUKWP</td>\n",
              "      <td id=\"T_fd49b_row8_col1\" class=\"data row8 col1\" >5358</td>\n",
              "      <td id=\"T_fd49b_row8_col2\" class=\"data row8 col2\" >3</td>\n",
              "      <td id=\"T_fd49b_row8_col3\" class=\"data row8 col3\" >160.74</td>\n",
              "      <td id=\"T_fd49b_row8_col4\" class=\"data row8 col4\" >Stayed</td>\n",
              "    </tr>\n",
              "    <tr>\n",
              "      <td id=\"T_fd49b_row9_col0\" class=\"data row9 col0\" >0322-CHQRU</td>\n",
              "      <td id=\"T_fd49b_row9_col1\" class=\"data row9 col1\" >3478</td>\n",
              "      <td id=\"T_fd49b_row9_col2\" class=\"data row9 col2\" >1</td>\n",
              "      <td id=\"T_fd49b_row9_col3\" class=\"data row9 col3\" >34.78</td>\n",
              "      <td id=\"T_fd49b_row9_col4\" class=\"data row9 col4\" >Churned</td>\n",
              "    </tr>\n",
              "    <tr>\n",
              "      <td id=\"T_fd49b_row10_col0\" class=\"data row10 col0\" >...</td>\n",
              "      <td id=\"T_fd49b_row10_col1\" class=\"data row10 col1\" >...</td>\n",
              "      <td id=\"T_fd49b_row10_col2\" class=\"data row10 col2\" >...</td>\n",
              "      <td id=\"T_fd49b_row10_col3\" class=\"data row10 col3\" >...</td>\n",
              "      <td id=\"T_fd49b_row10_col4\" class=\"data row10 col4\" >...</td>\n",
              "    </tr>\n",
              "  </tbody>\n",
              "</table>\n"
            ],
            "text/plain": [
              "<pandas.io.formats.style.Styler at 0x142879250>"
            ]
          },
          "metadata": {},
          "output_type": "display_data"
        }
      ],
      "source": [
        "SSELECT\n",
        "  customer_id,\n",
        "  cltv,\n",
        "  satisfaction_score,\n",
        "  (satisfaction_score*(cltv/100)) AS CLS,\n",
        "  status\n",
        "FROM telco_churn.customer_status"
      ]
    },
    {
      "cell_type": "markdown",
      "metadata": {
        "id": "BH7s5Tqyi1H0"
      },
      "source": [
        "## <b>B.2. <span style='color:#0B2F9F'><code>Fungsi Matematis</code></span></b>\n",
        "SQL juga mendukung fungsi matematis dasar yang disajikan pada tabel berikut :\n",
        "\n",
        "<table border=\"1\">\n",
        "    <thead>\n",
        "        <tr>\n",
        "            <th>Fungsi</th>\n",
        "            <th>Deskripsi</th>\n",
        "        </tr>\n",
        "    </thead>\n",
        "    <tbody>\n",
        "        <tr>\n",
        "            <td><code>ABS()</code></td>\n",
        "            <td>Mengambil nilai absolut</td>\n",
        "        </tr>\n",
        "        <tr>\n",
        "            <td><code>ROUND()</code></td>\n",
        "            <td>Membulatkan angka</td>\n",
        "        </tr>\n",
        "        <tr>\n",
        "            <td><code>CEIL()</code></td>\n",
        "            <td>Membulatkan ke atas</td>\n",
        "        </tr>\n",
        "        <tr>\n",
        "            <td><code>FLOOR()</code></td>\n",
        "            <td>Membulatkan ke bawah</td>\n",
        "        </tr>\n",
        "        <tr>\n",
        "            <td><code>POW()</code></td>\n",
        "            <td>Menghitung pangkat</td>\n",
        "        </tr>\n",
        "    </tbody>\n",
        "</table>\n",
        "\n",
        "Untuk dapat menerapkannya pada sebuah tabel gunakan contoh format berikut\n",
        "\n",
        "<img src=\"https://raw.githubusercontent.com/bachtiyarma/Material/refs/heads/main/Image/Materi-SQL/SQL-FungsiMatematis.png\" width=\"50%\">\n",
        "\n",
        "<i>docs : <a href=\"https://cloud.google.com/bigquery/docs/reference/standard-sql/mathematical_functions\">https://cloud.google.com/bigquery/docs/reference/standard-sql/mathematical_functions</a></i>"
      ]
    },
    {
      "cell_type": "markdown",
      "metadata": {
        "id": "oJNolLbJi1H2"
      },
      "source": [
        "#### <i><b><span style='color:#55679C'>Quest</span> : </b></i><br>\n",
        "Customer Loyalty Score dapat dirumuskan sebagai :\n",
        "\\begin{equation}\n",
        "\\text{Customer Loyalty Score (CLS)} = \\text{Customer Satisfaction Score} \\times \\frac{\\text{CLTV}}{100}\n",
        "\\end{equation}\n",
        "\n",
        "Pada tabel `customer_status`, tampilkan kolom customer_id, cltv, satisfaction_score, cls dan status. Namun bulatkan cls dengan pembulatan tanpa adanya angka dibelakang koma (ROUND(0)) dan tampilkan hanya yang statusnya churn lalu urutkan berdasarkan cls terbesar hingga terkecil!"
      ]
    },
    {
      "cell_type": "code",
      "execution_count": null,
      "metadata": {
        "id": "R4UAHn3ji1H3",
        "outputId": "bef6478b-de0d-426d-fdcb-f3ab81a7be07"
      },
      "outputs": [
        {
          "data": {
            "text/html": [
              "<style type=\"text/css\">\n",
              "</style>\n",
              "<table id=\"T_d926a\">\n",
              "  <thead>\n",
              "    <tr>\n",
              "      <th id=\"T_d926a_level0_col0\" class=\"col_heading level0 col0\" >customer_id</th>\n",
              "      <th id=\"T_d926a_level0_col1\" class=\"col_heading level0 col1\" >cltv</th>\n",
              "      <th id=\"T_d926a_level0_col2\" class=\"col_heading level0 col2\" >satisfaction_score</th>\n",
              "      <th id=\"T_d926a_level0_col3\" class=\"col_heading level0 col3\" >cls</th>\n",
              "      <th id=\"T_d926a_level0_col4\" class=\"col_heading level0 col4\" >status</th>\n",
              "    </tr>\n",
              "  </thead>\n",
              "  <tbody>\n",
              "    <tr>\n",
              "      <td id=\"T_d926a_row0_col0\" class=\"data row0 col0\" >1043-YCUTE</td>\n",
              "      <td id=\"T_d926a_row0_col1\" class=\"data row0 col1\" >6484</td>\n",
              "      <td id=\"T_d926a_row0_col2\" class=\"data row0 col2\" >3</td>\n",
              "      <td id=\"T_d926a_row0_col3\" class=\"data row0 col3\" >195</td>\n",
              "      <td id=\"T_d926a_row0_col4\" class=\"data row0 col4\" >Churned</td>\n",
              "    </tr>\n",
              "    <tr>\n",
              "      <td id=\"T_d926a_row1_col0\" class=\"data row1 col0\" >4143-HHPMK</td>\n",
              "      <td id=\"T_d926a_row1_col1\" class=\"data row1 col1\" >6402</td>\n",
              "      <td id=\"T_d926a_row1_col2\" class=\"data row1 col2\" >3</td>\n",
              "      <td id=\"T_d926a_row1_col3\" class=\"data row1 col3\" >192</td>\n",
              "      <td id=\"T_d926a_row1_col4\" class=\"data row1 col4\" >Churned</td>\n",
              "    </tr>\n",
              "    <tr>\n",
              "      <td id=\"T_d926a_row2_col0\" class=\"data row2 col0\" >8634-CILSZ</td>\n",
              "      <td id=\"T_d926a_row2_col1\" class=\"data row2 col1\" >6350</td>\n",
              "      <td id=\"T_d926a_row2_col2\" class=\"data row2 col2\" >3</td>\n",
              "      <td id=\"T_d926a_row2_col3\" class=\"data row2 col3\" >190</td>\n",
              "      <td id=\"T_d926a_row2_col4\" class=\"data row2 col4\" >Churned</td>\n",
              "    </tr>\n",
              "    <tr>\n",
              "      <td id=\"T_d926a_row3_col0\" class=\"data row3 col0\" >3313-QKNKB</td>\n",
              "      <td id=\"T_d926a_row3_col1\" class=\"data row3 col1\" >6304</td>\n",
              "      <td id=\"T_d926a_row3_col2\" class=\"data row3 col2\" >3</td>\n",
              "      <td id=\"T_d926a_row3_col3\" class=\"data row3 col3\" >189</td>\n",
              "      <td id=\"T_d926a_row3_col4\" class=\"data row3 col4\" >Churned</td>\n",
              "    </tr>\n",
              "    <tr>\n",
              "      <td id=\"T_d926a_row4_col0\" class=\"data row4 col0\" >2533-QVMSK</td>\n",
              "      <td id=\"T_d926a_row4_col1\" class=\"data row4 col1\" >6295</td>\n",
              "      <td id=\"T_d926a_row4_col2\" class=\"data row4 col2\" >3</td>\n",
              "      <td id=\"T_d926a_row4_col3\" class=\"data row4 col3\" >189</td>\n",
              "      <td id=\"T_d926a_row4_col4\" class=\"data row4 col4\" >Churned</td>\n",
              "    </tr>\n",
              "    <tr>\n",
              "      <td id=\"T_d926a_row5_col0\" class=\"data row5 col0\" >9090-SGQXL</td>\n",
              "      <td id=\"T_d926a_row5_col1\" class=\"data row5 col1\" >6284</td>\n",
              "      <td id=\"T_d926a_row5_col2\" class=\"data row5 col2\" >3</td>\n",
              "      <td id=\"T_d926a_row5_col3\" class=\"data row5 col3\" >189</td>\n",
              "      <td id=\"T_d926a_row5_col4\" class=\"data row5 col4\" >Churned</td>\n",
              "    </tr>\n",
              "    <tr>\n",
              "      <td id=\"T_d926a_row6_col0\" class=\"data row6 col0\" >0607-DAAHE</td>\n",
              "      <td id=\"T_d926a_row6_col1\" class=\"data row6 col1\" >6265</td>\n",
              "      <td id=\"T_d926a_row6_col2\" class=\"data row6 col2\" >3</td>\n",
              "      <td id=\"T_d926a_row6_col3\" class=\"data row6 col3\" >188</td>\n",
              "      <td id=\"T_d926a_row6_col4\" class=\"data row6 col4\" >Churned</td>\n",
              "    </tr>\n",
              "    <tr>\n",
              "      <td id=\"T_d926a_row7_col0\" class=\"data row7 col0\" >0877-SDMBN</td>\n",
              "      <td id=\"T_d926a_row7_col1\" class=\"data row7 col1\" >6117</td>\n",
              "      <td id=\"T_d926a_row7_col2\" class=\"data row7 col2\" >3</td>\n",
              "      <td id=\"T_d926a_row7_col3\" class=\"data row7 col3\" >184</td>\n",
              "      <td id=\"T_d926a_row7_col4\" class=\"data row7 col4\" >Churned</td>\n",
              "    </tr>\n",
              "    <tr>\n",
              "      <td id=\"T_d926a_row8_col0\" class=\"data row8 col0\" >2886-KEFUM</td>\n",
              "      <td id=\"T_d926a_row8_col1\" class=\"data row8 col1\" >6144</td>\n",
              "      <td id=\"T_d926a_row8_col2\" class=\"data row8 col2\" >3</td>\n",
              "      <td id=\"T_d926a_row8_col3\" class=\"data row8 col3\" >184</td>\n",
              "      <td id=\"T_d926a_row8_col4\" class=\"data row8 col4\" >Churned</td>\n",
              "    </tr>\n",
              "    <tr>\n",
              "      <td id=\"T_d926a_row9_col0\" class=\"data row9 col0\" >4791-QRGMF</td>\n",
              "      <td id=\"T_d926a_row9_col1\" class=\"data row9 col1\" >6098</td>\n",
              "      <td id=\"T_d926a_row9_col2\" class=\"data row9 col2\" >3</td>\n",
              "      <td id=\"T_d926a_row9_col3\" class=\"data row9 col3\" >183</td>\n",
              "      <td id=\"T_d926a_row9_col4\" class=\"data row9 col4\" >Churned</td>\n",
              "    </tr>\n",
              "    <tr>\n",
              "      <td id=\"T_d926a_row10_col0\" class=\"data row10 col0\" >...</td>\n",
              "      <td id=\"T_d926a_row10_col1\" class=\"data row10 col1\" >...</td>\n",
              "      <td id=\"T_d926a_row10_col2\" class=\"data row10 col2\" >...</td>\n",
              "      <td id=\"T_d926a_row10_col3\" class=\"data row10 col3\" >...</td>\n",
              "      <td id=\"T_d926a_row10_col4\" class=\"data row10 col4\" >...</td>\n",
              "    </tr>\n",
              "  </tbody>\n",
              "</table>\n"
            ],
            "text/plain": [
              "<pandas.io.formats.style.Styler at 0x143f45d10>"
            ]
          },
          "metadata": {},
          "output_type": "display_data"
        }
      ],
      "source": [
        "SELECT\n",
        "  customer_id,\n",
        "  cltv,\n",
        "  satisfaction_score,\n",
        "  ROUND(satisfaction_score * (cltv/100), 0) AS customer_loyalty_score,\n",
        "  status\n",
        "FROM telco_churn.customer_status\n",
        "WHERE status = 'Churned'\n",
        "ORDER BY customer_loyalty_score DESC"
      ]
    },
    {
      "cell_type": "markdown",
      "metadata": {
        "id": "Ev3JFl5Hi1H4"
      },
      "source": [
        "# <b>C. <span style='color:#0B2F9F'><code>Operasi Tipe Data Date</code></span></b>\n",
        "\n",
        "Dalam SQL, tipe data date digunakan untuk menyimpan atau mengoperasikan data tanggal. Tipe data tanggal dapat dilakukan operasi berikut, diantaranya :\n",
        "<ol>\n",
        "    <li>Menampilkan Tanggal & Waktu saat ini</li>\n",
        "    <li>Menambahkan atau Mengurangi Tanggal</li>\n",
        "    <li>Mendapatkan Bagian Tanggal</li>\n",
        "    <li>Menghitung Selisih Tanggal</li>\n",
        "</ol>\n",
        "\n",
        "<br><b>NOTE</b><br><br>\n",
        "Hal-hal yang perlu diperhatikan dalam penggunaan operasi `date` adalah :\n",
        "<ul>\n",
        "    <li>Format tanggal standar SQL adalah 'YYYY-MM-DD' atau tahun - bulan - tanggal, contoh : 2024-10-14 menunjukan tanggal 14 October 2024</li>\n",
        "    <li>Mengakses tanggal pada SQL perlu menggunakan tanda apit petik satu, contoh : '2024-10-14'</li>\n",
        "    <li>Pastikan nilai atau kolom tanggal tipe datanya adalah DATE atau TIMESTAMP, jika tidak maka bisa dikonversi menjadi <code>DATE(tanggal)</code> atau <code>TIMESTAMP(tanggal)</code></li>\n",
        "</ul>\n",
        "\n",
        "<i>docs : <a href=\"https://cloud.google.com/bigquery/docs/reference/standard-sql/date_functions\">https://cloud.google.com/bigquery/docs/reference/standard-sql/date_functions</a></i>"
      ]
    },
    {
      "cell_type": "markdown",
      "metadata": {
        "id": "-Ou-J_ewi1H4"
      },
      "source": [
        "## <b>C.1. <span style='color:#0B2F9F'><code>Menampilkan Tanggal & Waktu Saat Ini</code></span></b>\n",
        "\n",
        "Untuk menampilkan tanggal dan waktu saat ini dapat menggunakan fungsi berikut\n",
        "<table border=\"1\">\n",
        "    <thead>\n",
        "        <tr>\n",
        "            <th>Fungsi</th>\n",
        "            <th>Deskripsi</th>\n",
        "        </tr>\n",
        "    </thead>\n",
        "    <tbody>\n",
        "        <tr>\n",
        "            <td><code>CURRENT_DATE()</code></td>\n",
        "            <td>Mendapatkan Tanggal Hari ini Saja</td>\n",
        "        </tr>\n",
        "        <tr>\n",
        "            <td><code>CURRENT_TIMESTAMP()</code></td>\n",
        "            <td>Mendapatkan Tanggal & Waktu Hari ini (UTC)</td>\n",
        "        </tr>\n",
        "    </tbody>\n",
        "</table>\n",
        "\n",
        "UTC atau (Universal Time Coordinated) adalah waktu dasar yang tidak terpengaruh oleh zona waktu dan <i>daylight saving time</i>. UTC digunakan sebagai acuan untuk menghitung waktu di berbagai zona waktu di seluruh dunia (standar Greenwich Mean Time (London)). Selengkapnya baca <a href=\"https://internasional.kompas.com/read/2021/03/04/192042570/sejarah-penetapan-zona-waktu-di-dunia-hingga-usulan-penghapusannya?page=all\">disini</a>."
      ]
    },
    {
      "cell_type": "markdown",
      "metadata": {
        "id": "Xl-8m4Jgi1H5"
      },
      "source": [
        "#### <i><b><span style='color:#55679C'>Quest</span> : Tampilkan semua kolom pada tabel customer_demography dan tambahkan kolom data_collection_time sebagai kolom metadata waktu pengambilan data</b></i><br>"
      ]
    },
    {
      "cell_type": "code",
      "execution_count": null,
      "metadata": {
        "id": "uF0dupWxi1H5",
        "outputId": "1104c9d6-18a0-4c61-c286-58af20a4ac48"
      },
      "outputs": [
        {
          "data": {
            "text/html": [
              "<style type=\"text/css\">\n",
              "</style>\n",
              "<table id=\"T_0c8f5\">\n",
              "  <thead>\n",
              "    <tr>\n",
              "      <th id=\"T_0c8f5_level0_col0\" class=\"col_heading level0 col0\" >customer_id</th>\n",
              "      <th id=\"T_0c8f5_level0_col1\" class=\"col_heading level0 col1\" >gender</th>\n",
              "      <th id=\"T_0c8f5_level0_col2\" class=\"col_heading level0 col2\" >age</th>\n",
              "      <th id=\"T_0c8f5_level0_col3\" class=\"col_heading level0 col3\" >senior_citizen</th>\n",
              "      <th id=\"T_0c8f5_level0_col4\" class=\"col_heading level0 col4\" >married</th>\n",
              "      <th id=\"T_0c8f5_level0_col5\" class=\"col_heading level0 col5\" >number_of_dependents</th>\n",
              "      <th id=\"T_0c8f5_level0_col6\" class=\"col_heading level0 col6\" >data_collection_time</th>\n",
              "    </tr>\n",
              "  </thead>\n",
              "  <tbody>\n",
              "    <tr>\n",
              "      <td id=\"T_0c8f5_row0_col0\" class=\"data row0 col0\" >8779-QRDMV</td>\n",
              "      <td id=\"T_0c8f5_row0_col1\" class=\"data row0 col1\" >Male</td>\n",
              "      <td id=\"T_0c8f5_row0_col2\" class=\"data row0 col2\" >78</td>\n",
              "      <td id=\"T_0c8f5_row0_col3\" class=\"data row0 col3\" >Yes</td>\n",
              "      <td id=\"T_0c8f5_row0_col4\" class=\"data row0 col4\" >No</td>\n",
              "      <td id=\"T_0c8f5_row0_col5\" class=\"data row0 col5\" >0</td>\n",
              "      <td id=\"T_0c8f5_row0_col6\" class=\"data row0 col6\" >2024-10-13 11:37:32.583807</td>\n",
              "    </tr>\n",
              "    <tr>\n",
              "      <td id=\"T_0c8f5_row1_col0\" class=\"data row1 col0\" >7495-OOKFY</td>\n",
              "      <td id=\"T_0c8f5_row1_col1\" class=\"data row1 col1\" >Female</td>\n",
              "      <td id=\"T_0c8f5_row1_col2\" class=\"data row1 col2\" >74</td>\n",
              "      <td id=\"T_0c8f5_row1_col3\" class=\"data row1 col3\" >Yes</td>\n",
              "      <td id=\"T_0c8f5_row1_col4\" class=\"data row1 col4\" >Yes</td>\n",
              "      <td id=\"T_0c8f5_row1_col5\" class=\"data row1 col5\" >1</td>\n",
              "      <td id=\"T_0c8f5_row1_col6\" class=\"data row1 col6\" >2024-10-13 11:37:32.583807</td>\n",
              "    </tr>\n",
              "    <tr>\n",
              "      <td id=\"T_0c8f5_row2_col0\" class=\"data row2 col0\" >1658-BYGOY</td>\n",
              "      <td id=\"T_0c8f5_row2_col1\" class=\"data row2 col1\" >Male</td>\n",
              "      <td id=\"T_0c8f5_row2_col2\" class=\"data row2 col2\" >71</td>\n",
              "      <td id=\"T_0c8f5_row2_col3\" class=\"data row2 col3\" >Yes</td>\n",
              "      <td id=\"T_0c8f5_row2_col4\" class=\"data row2 col4\" >No</td>\n",
              "      <td id=\"T_0c8f5_row2_col5\" class=\"data row2 col5\" >3</td>\n",
              "      <td id=\"T_0c8f5_row2_col6\" class=\"data row2 col6\" >2024-10-13 11:37:32.583807</td>\n",
              "    </tr>\n",
              "    <tr>\n",
              "      <td id=\"T_0c8f5_row3_col0\" class=\"data row3 col0\" >4598-XLKNJ</td>\n",
              "      <td id=\"T_0c8f5_row3_col1\" class=\"data row3 col1\" >Female</td>\n",
              "      <td id=\"T_0c8f5_row3_col2\" class=\"data row3 col2\" >78</td>\n",
              "      <td id=\"T_0c8f5_row3_col3\" class=\"data row3 col3\" >Yes</td>\n",
              "      <td id=\"T_0c8f5_row3_col4\" class=\"data row3 col4\" >Yes</td>\n",
              "      <td id=\"T_0c8f5_row3_col5\" class=\"data row3 col5\" >1</td>\n",
              "      <td id=\"T_0c8f5_row3_col6\" class=\"data row3 col6\" >2024-10-13 11:37:32.583807</td>\n",
              "    </tr>\n",
              "    <tr>\n",
              "      <td id=\"T_0c8f5_row4_col0\" class=\"data row4 col0\" >4846-WHAFZ</td>\n",
              "      <td id=\"T_0c8f5_row4_col1\" class=\"data row4 col1\" >Female</td>\n",
              "      <td id=\"T_0c8f5_row4_col2\" class=\"data row4 col2\" >80</td>\n",
              "      <td id=\"T_0c8f5_row4_col3\" class=\"data row4 col3\" >Yes</td>\n",
              "      <td id=\"T_0c8f5_row4_col4\" class=\"data row4 col4\" >Yes</td>\n",
              "      <td id=\"T_0c8f5_row4_col5\" class=\"data row4 col5\" >1</td>\n",
              "      <td id=\"T_0c8f5_row4_col6\" class=\"data row4 col6\" >2024-10-13 11:37:32.583807</td>\n",
              "    </tr>\n",
              "    <tr>\n",
              "      <td id=\"T_0c8f5_row5_col0\" class=\"data row5 col0\" >4412-YLTKF</td>\n",
              "      <td id=\"T_0c8f5_row5_col1\" class=\"data row5 col1\" >Female</td>\n",
              "      <td id=\"T_0c8f5_row5_col2\" class=\"data row5 col2\" >72</td>\n",
              "      <td id=\"T_0c8f5_row5_col3\" class=\"data row5 col3\" >Yes</td>\n",
              "      <td id=\"T_0c8f5_row5_col4\" class=\"data row5 col4\" >No</td>\n",
              "      <td id=\"T_0c8f5_row5_col5\" class=\"data row5 col5\" >1</td>\n",
              "      <td id=\"T_0c8f5_row5_col6\" class=\"data row5 col6\" >2024-10-13 11:37:32.583807</td>\n",
              "    </tr>\n",
              "    <tr>\n",
              "      <td id=\"T_0c8f5_row6_col0\" class=\"data row6 col0\" >0390-DCFDQ</td>\n",
              "      <td id=\"T_0c8f5_row6_col1\" class=\"data row6 col1\" >Female</td>\n",
              "      <td id=\"T_0c8f5_row6_col2\" class=\"data row6 col2\" >76</td>\n",
              "      <td id=\"T_0c8f5_row6_col3\" class=\"data row6 col3\" >Yes</td>\n",
              "      <td id=\"T_0c8f5_row6_col4\" class=\"data row6 col4\" >Yes</td>\n",
              "      <td id=\"T_0c8f5_row6_col5\" class=\"data row6 col5\" >2</td>\n",
              "      <td id=\"T_0c8f5_row6_col6\" class=\"data row6 col6\" >2024-10-13 11:37:32.583807</td>\n",
              "    </tr>\n",
              "    <tr>\n",
              "      <td id=\"T_0c8f5_row7_col0\" class=\"data row7 col0\" >3445-HXXGF</td>\n",
              "      <td id=\"T_0c8f5_row7_col1\" class=\"data row7 col1\" >Male</td>\n",
              "      <td id=\"T_0c8f5_row7_col2\" class=\"data row7 col2\" >66</td>\n",
              "      <td id=\"T_0c8f5_row7_col3\" class=\"data row7 col3\" >Yes</td>\n",
              "      <td id=\"T_0c8f5_row7_col4\" class=\"data row7 col4\" >Yes</td>\n",
              "      <td id=\"T_0c8f5_row7_col5\" class=\"data row7 col5\" >0</td>\n",
              "      <td id=\"T_0c8f5_row7_col6\" class=\"data row7 col6\" >2024-10-13 11:37:32.583807</td>\n",
              "    </tr>\n",
              "    <tr>\n",
              "      <td id=\"T_0c8f5_row8_col0\" class=\"data row8 col0\" >2656-FMOKZ</td>\n",
              "      <td id=\"T_0c8f5_row8_col1\" class=\"data row8 col1\" >Female</td>\n",
              "      <td id=\"T_0c8f5_row8_col2\" class=\"data row8 col2\" >70</td>\n",
              "      <td id=\"T_0c8f5_row8_col3\" class=\"data row8 col3\" >Yes</td>\n",
              "      <td id=\"T_0c8f5_row8_col4\" class=\"data row8 col4\" >No</td>\n",
              "      <td id=\"T_0c8f5_row8_col5\" class=\"data row8 col5\" >2</td>\n",
              "      <td id=\"T_0c8f5_row8_col6\" class=\"data row8 col6\" >2024-10-13 11:37:32.583807</td>\n",
              "    </tr>\n",
              "    <tr>\n",
              "      <td id=\"T_0c8f5_row9_col0\" class=\"data row9 col0\" >2070-FNEXE</td>\n",
              "      <td id=\"T_0c8f5_row9_col1\" class=\"data row9 col1\" >Female</td>\n",
              "      <td id=\"T_0c8f5_row9_col2\" class=\"data row9 col2\" >77</td>\n",
              "      <td id=\"T_0c8f5_row9_col3\" class=\"data row9 col3\" >Yes</td>\n",
              "      <td id=\"T_0c8f5_row9_col4\" class=\"data row9 col4\" >No</td>\n",
              "      <td id=\"T_0c8f5_row9_col5\" class=\"data row9 col5\" >2</td>\n",
              "      <td id=\"T_0c8f5_row9_col6\" class=\"data row9 col6\" >2024-10-13 11:37:32.583807</td>\n",
              "    </tr>\n",
              "    <tr>\n",
              "      <td id=\"T_0c8f5_row10_col0\" class=\"data row10 col0\" >...</td>\n",
              "      <td id=\"T_0c8f5_row10_col1\" class=\"data row10 col1\" >...</td>\n",
              "      <td id=\"T_0c8f5_row10_col2\" class=\"data row10 col2\" >...</td>\n",
              "      <td id=\"T_0c8f5_row10_col3\" class=\"data row10 col3\" >...</td>\n",
              "      <td id=\"T_0c8f5_row10_col4\" class=\"data row10 col4\" >...</td>\n",
              "      <td id=\"T_0c8f5_row10_col5\" class=\"data row10 col5\" >...</td>\n",
              "      <td id=\"T_0c8f5_row10_col6\" class=\"data row10 col6\" >...</td>\n",
              "    </tr>\n",
              "  </tbody>\n",
              "</table>\n"
            ],
            "text/plain": [
              "<pandas.io.formats.style.Styler at 0x1448de650>"
            ]
          },
          "metadata": {},
          "output_type": "display_data"
        }
      ],
      "source": [
        "SELECT\n",
        "  *,\n",
        "  CURRENT_DATETIME('Asia/Jakarta') AS data_collection_time\n",
        "FROM telco_churn.customer_demography"
      ]
    },
    {
      "cell_type": "markdown",
      "source": [
        "Penggunaan Syntax **CURRENT_DATETIME** mengacu kepada daerah dari Timezone (TZ), seperti: Greenwich, London, Africa/Lagos dsb"
      ],
      "metadata": {
        "id": "YkLzywdk4FA1"
      }
    },
    {
      "cell_type": "markdown",
      "metadata": {
        "id": "2YJeV5Cfi1H6"
      },
      "source": [
        "## <b>C.2. <span style='color:#0B2F9F'><code>Menambahkan atau Mengurangi Tanggal</code></span></b>\n",
        "\n",
        "<table border=\"1\">\n",
        "    <thead>\n",
        "        <tr>\n",
        "            <th>Fungsi</th>\n",
        "            <th>Deskripsi</th>\n",
        "        </tr>\n",
        "    </thead>\n",
        "    <tbody>\n",
        "        <tr>\n",
        "            <td><code>DATE_ADD(tanggal, INTERVAL jumlah_penambahan satuan_waktu)</code></td>\n",
        "            <td>Menambahkan Tanggal pada Interval Tertentu</td>\n",
        "        </tr>\n",
        "        <tr>\n",
        "            <td><code>DATE_SUB(tanggal, INTERVAL jumlah_penambahan satuan_waktu)</code></td>\n",
        "            <td>Mengurangi Tanggal pada Interval Tertentu</td>\n",
        "        </tr>\n",
        "    </tbody>\n",
        "</table>\n",
        "\n",
        "Sebagai contoh misalkan hari ini tanggal 14 Oktober 2024. Ingin diperoleh tanggal tepat 3 bulan yang lalu maka dapat digunakan sintaks `DATE_SUB(DATE('2024-10-14'), INTERVAL 3 MONTH)` maka akan diperoleh tanggal 14 Juli 2024."
      ]
    },
    {
      "cell_type": "markdown",
      "metadata": {
        "id": "4ifI3la7i1H7"
      },
      "source": [
        "#### <i><b><span style='color:#55679C'>Quest</span> : Misalkan tanggal sekarang adalah 1 Januari 2025 dan tenure_in_months adalah kolom pada table telco_services maka setiap customer_id tentukan perkiraan tanggal berapa tiap customer mulai berlangganan!</b></i><br>"
      ]
    },
    {
      "cell_type": "code",
      "execution_count": null,
      "metadata": {
        "id": "Ae6M80-Zi1H8",
        "outputId": "be9f2ff1-bc8a-4908-ba57-a696e8947b9e"
      },
      "outputs": [
        {
          "data": {
            "text/html": [
              "<style type=\"text/css\">\n",
              "</style>\n",
              "<table id=\"T_a4ceb\">\n",
              "  <thead>\n",
              "    <tr>\n",
              "      <th id=\"T_a4ceb_level0_col0\" class=\"col_heading level0 col0\" >customer_id</th>\n",
              "      <th id=\"T_a4ceb_level0_col1\" class=\"col_heading level0 col1\" >join_date</th>\n",
              "      <th id=\"T_a4ceb_level0_col2\" class=\"col_heading level0 col2\" >tenure_in_months</th>\n",
              "    </tr>\n",
              "  </thead>\n",
              "  <tbody>\n",
              "    <tr>\n",
              "      <td id=\"T_a4ceb_row0_col0\" class=\"data row0 col0\" >4433-JCGCG</td>\n",
              "      <td id=\"T_a4ceb_row0_col1\" class=\"data row0 col1\" >2020-03-01</td>\n",
              "      <td id=\"T_a4ceb_row0_col2\" class=\"data row0 col2\" >46</td>\n",
              "    </tr>\n",
              "    <tr>\n",
              "      <td id=\"T_a4ceb_row1_col0\" class=\"data row1 col0\" >8263-OKETD</td>\n",
              "      <td id=\"T_a4ceb_row1_col1\" class=\"data row1 col1\" >2022-05-01</td>\n",
              "      <td id=\"T_a4ceb_row1_col2\" class=\"data row1 col2\" >20</td>\n",
              "    </tr>\n",
              "    <tr>\n",
              "      <td id=\"T_a4ceb_row2_col0\" class=\"data row2 col0\" >2533-TIBIX</td>\n",
              "      <td id=\"T_a4ceb_row2_col1\" class=\"data row2 col1\" >2022-10-01</td>\n",
              "      <td id=\"T_a4ceb_row2_col2\" class=\"data row2 col2\" >15</td>\n",
              "    </tr>\n",
              "    <tr>\n",
              "      <td id=\"T_a4ceb_row3_col0\" class=\"data row3 col0\" >8917-SZTTJ</td>\n",
              "      <td id=\"T_a4ceb_row3_col1\" class=\"data row3 col1\" >2019-01-01</td>\n",
              "      <td id=\"T_a4ceb_row3_col2\" class=\"data row3 col2\" >60</td>\n",
              "    </tr>\n",
              "    <tr>\n",
              "      <td id=\"T_a4ceb_row4_col0\" class=\"data row4 col0\" >5743-KHMNA</td>\n",
              "      <td id=\"T_a4ceb_row4_col1\" class=\"data row4 col1\" >2018-02-01</td>\n",
              "      <td id=\"T_a4ceb_row4_col2\" class=\"data row4 col2\" >71</td>\n",
              "    </tr>\n",
              "    <tr>\n",
              "      <td id=\"T_a4ceb_row5_col0\" class=\"data row5 col0\" >5056-FIMPT</td>\n",
              "      <td id=\"T_a4ceb_row5_col1\" class=\"data row5 col1\" >2020-06-01</td>\n",
              "      <td id=\"T_a4ceb_row5_col2\" class=\"data row5 col2\" >43</td>\n",
              "    </tr>\n",
              "    <tr>\n",
              "      <td id=\"T_a4ceb_row6_col0\" class=\"data row6 col0\" >4922-CVPDX</td>\n",
              "      <td id=\"T_a4ceb_row6_col1\" class=\"data row6 col1\" >2021-11-01</td>\n",
              "      <td id=\"T_a4ceb_row6_col2\" class=\"data row6 col2\" >26</td>\n",
              "    </tr>\n",
              "    <tr>\n",
              "      <td id=\"T_a4ceb_row7_col0\" class=\"data row7 col0\" >9931-KGHOA</td>\n",
              "      <td id=\"T_a4ceb_row7_col1\" class=\"data row7 col1\" >2020-03-01</td>\n",
              "      <td id=\"T_a4ceb_row7_col2\" class=\"data row7 col2\" >46</td>\n",
              "    </tr>\n",
              "    <tr>\n",
              "      <td id=\"T_a4ceb_row8_col0\" class=\"data row8 col0\" >4121-AGSIN</td>\n",
              "      <td id=\"T_a4ceb_row8_col1\" class=\"data row8 col1\" >2019-03-01</td>\n",
              "      <td id=\"T_a4ceb_row8_col2\" class=\"data row8 col2\" >58</td>\n",
              "    </tr>\n",
              "    <tr>\n",
              "      <td id=\"T_a4ceb_row9_col0\" class=\"data row9 col0\" >1077-HUUJM</td>\n",
              "      <td id=\"T_a4ceb_row9_col1\" class=\"data row9 col1\" >2023-06-01</td>\n",
              "      <td id=\"T_a4ceb_row9_col2\" class=\"data row9 col2\" >7</td>\n",
              "    </tr>\n",
              "    <tr>\n",
              "      <td id=\"T_a4ceb_row10_col0\" class=\"data row10 col0\" >...</td>\n",
              "      <td id=\"T_a4ceb_row10_col1\" class=\"data row10 col1\" >...</td>\n",
              "      <td id=\"T_a4ceb_row10_col2\" class=\"data row10 col2\" >...</td>\n",
              "    </tr>\n",
              "  </tbody>\n",
              "</table>\n"
            ],
            "text/plain": [
              "<pandas.io.formats.style.Styler at 0x142870d90>"
            ]
          },
          "metadata": {},
          "output_type": "display_data"
        }
      ],
      "source": [
        "SELECT\n",
        "  customer_id,\n",
        "  DATE_SUB(DATE('2025-01-01'), INTERVAL tenure_in_months MONTH) AS join_date,\n",
        "  tenure_in_months\n",
        "FROM telco_churn.telco_services"
      ]
    },
    {
      "cell_type": "markdown",
      "metadata": {
        "id": "ZD0dyUq_i1H8"
      },
      "source": [
        "## <b>C.3. <span style='color:#0B2F9F'><code>Mendapatkan Bagian pada Tanggal</code></span></b>\n",
        "\n",
        "Mengambil bagian tertentu dari tipe data tanggal, waktu, atau timestamp terkadang sangat perlu dilakukan untuk analisa data. Jika ingin didapatkan elemen tertentu, seperti tahun, bulan, hari, atau jam, dari nilai tanggal atau waktu gunakan fungsi berikut<br><br>\n",
        "\n",
        "<code>EXTRACT(bagian FROM tanggal)</code>\n",
        "<br><br>\n",
        "\n",
        "Bagian yang bisa diambil pada tanggal diantaranya adalah\n",
        "<table border=\"1\">\n",
        "    <thead>\n",
        "        <tr>\n",
        "            <th>Bagian</th>\n",
        "            <th>Deskripsi</th>\n",
        "        </tr>\n",
        "    </thead>\n",
        "    <tbody>\n",
        "        <tr>\n",
        "            <td><code>YEAR</code></td>\n",
        "            <td>Mendapatkan Tahun pada Tanggal</td>\n",
        "        </tr>\n",
        "        <tr>\n",
        "            <td><code>MONTH</code></td>\n",
        "            <td>Mendapatkan Bulan pada Tanggal</td>\n",
        "        </tr>\n",
        "        <tr>\n",
        "            <td><code>DAY</code></td>\n",
        "            <td>Mendapatkan Hari (1-31) pada Tanggal</td>\n",
        "        </tr>\n",
        "        <tr>\n",
        "            <td><code>WEEK</code></td>\n",
        "            <td>Mendapatkan Minggu ke- pada Tanggal</td>\n",
        "        </tr>\n",
        "         <tr>\n",
        "            <td><code>QUARTER</code></td>\n",
        "            <td>Mendapatkan Kuartal pada Tanggal</td>\n",
        "        </tr>\n",
        "        <tr>\n",
        "            <td><code>HOUR</code></td>\n",
        "            <td>Mendapatkan Jam pada Waktu</td>\n",
        "        </tr>\n",
        "        <tr>\n",
        "            <td><code>MINUTE</code></td>\n",
        "            <td>Mendapatkan Menit pada Waktu</td>\n",
        "        </tr>\n",
        "        <tr>\n",
        "            <td><code>SECOND</code></td>\n",
        "            <td>Mendapatkan Detik pada Waktu</td>\n",
        "        </tr>\n",
        "    </tbody>\n",
        "</table>\n",
        "<br>\n",
        "\n",
        "Namun jika menginginkan bagian yang lebih detail seperti Nama Bulan atau Nama Hari pada tanggal tertentu atau menampilkan format tanggal sesuai dengan keinginan dapat menggunakan sintaks `FORMAT_DATE(format_element, tanggal)`. <br><br>\n",
        "\n",
        "<table border=\"1\">\n",
        "    <thead>\n",
        "        <tr>\n",
        "            <th>Sintaks</th>\n",
        "            <th>Deskripsi</th>\n",
        "        </tr>\n",
        "    </thead>\n",
        "    <tbody>\n",
        "        <tr>\n",
        "            <td><code>FORMAT_DATE('%A', tanggal)</code></td>\n",
        "            <td>Mendapatkan Nama Hari pada Tanggal Tertentu</td>\n",
        "        </tr>\n",
        "        <tr>\n",
        "            <td><code>FORMAT_DATE('%B', tanggal)</code></td>\n",
        "            <td>Mendapatkan Nama Bulan pada Tanggal Tertentu</td>\n",
        "        </tr>\n",
        "    </tbody>\n",
        "</table>\n",
        "\n",
        "Detail format_element dapat diakses dilaman <a href=\"https://cloud.google.com/bigquery/docs/reference/standard-sql/format-elements#format_elements_date_time\"> berikut</a>.\n",
        "\n",
        "\n",
        "\n"
      ]
    },
    {
      "cell_type": "markdown",
      "metadata": {
        "id": "TXdhhzE5i1IE"
      },
      "source": [
        "#### <i><b><span style='color:#55679C'>Quest</span> : Misalkan tanggal sekarang adalah 1 Januari 2025 dan tenure_in_months adalah kolom pada table telco_services maka setiap customer_id tentukan perkiraan bulan (dengan format nama bulan) & tahun berapa tiap customer mulai berlangganan!</b></i><br>"
      ]
    },
    {
      "cell_type": "code",
      "execution_count": null,
      "metadata": {
        "id": "NviEJXbfi1IE",
        "outputId": "2e886507-39ac-4f2e-f9ec-279491793b9f"
      },
      "outputs": [
        {
          "data": {
            "text/html": [
              "<style type=\"text/css\">\n",
              "</style>\n",
              "<table id=\"T_cacd3\">\n",
              "  <thead>\n",
              "    <tr>\n",
              "      <th id=\"T_cacd3_level0_col0\" class=\"col_heading level0 col0\" >customer_id</th>\n",
              "      <th id=\"T_cacd3_level0_col1\" class=\"col_heading level0 col1\" >join_month_year</th>\n",
              "      <th id=\"T_cacd3_level0_col2\" class=\"col_heading level0 col2\" >tenure_in_months</th>\n",
              "    </tr>\n",
              "  </thead>\n",
              "  <tbody>\n",
              "    <tr>\n",
              "      <td id=\"T_cacd3_row0_col0\" class=\"data row0 col0\" >5656-JAMLX</td>\n",
              "      <td id=\"T_cacd3_row0_col1\" class=\"data row0 col1\" >November 2018</td>\n",
              "      <td id=\"T_cacd3_row0_col2\" class=\"data row0 col2\" >62</td>\n",
              "    </tr>\n",
              "    <tr>\n",
              "      <td id=\"T_cacd3_row1_col0\" class=\"data row1 col0\" >9782-LGXMC</td>\n",
              "      <td id=\"T_cacd3_row1_col1\" class=\"data row1 col1\" >December 2019</td>\n",
              "      <td id=\"T_cacd3_row1_col2\" class=\"data row1 col2\" >49</td>\n",
              "    </tr>\n",
              "    <tr>\n",
              "      <td id=\"T_cacd3_row2_col0\" class=\"data row2 col0\" >0016-QLJIS</td>\n",
              "      <td id=\"T_cacd3_row2_col1\" class=\"data row2 col1\" >August 2018</td>\n",
              "      <td id=\"T_cacd3_row2_col2\" class=\"data row2 col2\" >65</td>\n",
              "    </tr>\n",
              "    <tr>\n",
              "      <td id=\"T_cacd3_row3_col0\" class=\"data row3 col0\" >6284-KMNUF</td>\n",
              "      <td id=\"T_cacd3_row3_col1\" class=\"data row3 col1\" >May 2019</td>\n",
              "      <td id=\"T_cacd3_row3_col2\" class=\"data row3 col2\" >56</td>\n",
              "    </tr>\n",
              "    <tr>\n",
              "      <td id=\"T_cacd3_row4_col0\" class=\"data row4 col0\" >2041-JIJCI</td>\n",
              "      <td id=\"T_cacd3_row4_col1\" class=\"data row4 col1\" >August 2023</td>\n",
              "      <td id=\"T_cacd3_row4_col2\" class=\"data row4 col2\" >5</td>\n",
              "    </tr>\n",
              "    <tr>\n",
              "      <td id=\"T_cacd3_row5_col0\" class=\"data row5 col0\" >3462-BJQQA</td>\n",
              "      <td id=\"T_cacd3_row5_col1\" class=\"data row5 col1\" >July 2023</td>\n",
              "      <td id=\"T_cacd3_row5_col2\" class=\"data row5 col2\" >6</td>\n",
              "    </tr>\n",
              "    <tr>\n",
              "      <td id=\"T_cacd3_row6_col0\" class=\"data row6 col0\" >8065-YKXKD</td>\n",
              "      <td id=\"T_cacd3_row6_col1\" class=\"data row6 col1\" >March 2023</td>\n",
              "      <td id=\"T_cacd3_row6_col2\" class=\"data row6 col2\" >10</td>\n",
              "    </tr>\n",
              "    <tr>\n",
              "      <td id=\"T_cacd3_row7_col0\" class=\"data row7 col0\" >5382-TEMLV</td>\n",
              "      <td id=\"T_cacd3_row7_col1\" class=\"data row7 col1\" >April 2020</td>\n",
              "      <td id=\"T_cacd3_row7_col2\" class=\"data row7 col2\" >45</td>\n",
              "    </tr>\n",
              "    <tr>\n",
              "      <td id=\"T_cacd3_row8_col0\" class=\"data row8 col0\" >6481-ESCNL</td>\n",
              "      <td id=\"T_cacd3_row8_col1\" class=\"data row8 col1\" >August 2021</td>\n",
              "      <td id=\"T_cacd3_row8_col2\" class=\"data row8 col2\" >29</td>\n",
              "    </tr>\n",
              "    <tr>\n",
              "      <td id=\"T_cacd3_row9_col0\" class=\"data row9 col0\" >0744-GKNGE</td>\n",
              "      <td id=\"T_cacd3_row9_col1\" class=\"data row9 col1\" >September 2018</td>\n",
              "      <td id=\"T_cacd3_row9_col2\" class=\"data row9 col2\" >64</td>\n",
              "    </tr>\n",
              "    <tr>\n",
              "      <td id=\"T_cacd3_row10_col0\" class=\"data row10 col0\" >...</td>\n",
              "      <td id=\"T_cacd3_row10_col1\" class=\"data row10 col1\" >...</td>\n",
              "      <td id=\"T_cacd3_row10_col2\" class=\"data row10 col2\" >...</td>\n",
              "    </tr>\n",
              "  </tbody>\n",
              "</table>\n"
            ],
            "text/plain": [
              "<pandas.io.formats.style.Styler at 0x143461b50>"
            ]
          },
          "metadata": {},
          "output_type": "display_data"
        }
      ],
      "source": [
        "SELECT\n",
        "  customer_id,\n",
        "  FORMAT_DATE('%B %Y', DATE_SUB(DATE('2025-01-01'), INTERVAL tenure_in_months MONTH)) AS join_month_year,\n",
        "  tenure_in_months\n",
        "FROM telco_churn.telco_services"
      ]
    },
    {
      "cell_type": "markdown",
      "metadata": {
        "id": "xddePQH4i1IF"
      },
      "source": [
        "---\n",
        "Data Source : <i>https://www.ibm.com/docs/en/cognos-analytics/11.1.0?topic=samples-telco-customer-churn</i>\n",
        "\n",
        "---\n",
        "\n",
        "<br>\n",
        "<a href=\"https://www.linkedin.com/in/kennynathane/\"><img src=\"https://img.shields.io/badge/-© 2025 Kenny Nathane-417DAC?style=for-the-badge&logoColor=white\"/></a>"
      ]
    }
  ],
  "metadata": {
    "colab": {
      "provenance": []
    },
    "kernelspec": {
      "display_name": "Python 3",
      "name": "python3"
    },
    "language_info": {
      "codemirror_mode": {
        "name": "ipython",
        "version": 3
      },
      "file_extension": ".py",
      "mimetype": "text/x-python",
      "name": "python",
      "nbconvert_exporter": "python",
      "pygments_lexer": "ipython3",
      "version": "3.11.8"
    }
  },
  "nbformat": 4,
  "nbformat_minor": 0
}